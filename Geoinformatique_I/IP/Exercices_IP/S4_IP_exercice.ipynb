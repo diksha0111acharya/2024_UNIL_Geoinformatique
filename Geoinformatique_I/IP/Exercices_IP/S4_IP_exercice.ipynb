{
  "cells": [
    {
      "cell_type": "markdown",
      "metadata": {
        "id": "view-in-github",
        "colab_type": "text"
      },
      "source": [
        "<a href=\"https://colab.research.google.com/github/tbeucler/2024_UNIL_Geoinformatique/blob/main/Geoinformatique_I/IP/Exercices_IP/S4_IP_exercice.ipynb\" target=\"_parent\"><img src=\"https://colab.research.google.com/assets/colab-badge.svg\" alt=\"Open In Colab\"/></a>"
      ]
    },
    {
      "cell_type": "markdown",
      "metadata": {
        "id": "5pDD1HFMmuN1"
      },
      "source": [
        "## Exercice 4 - Fonction et calcul scientifique"
      ]
    },
    {
      "cell_type": "markdown",
      "metadata": {
        "id": "mnLZy8wEmuN2"
      },
      "source": [
        "### Numpy pour le calcul scientifique"
      ]
    },
    {
      "cell_type": "markdown",
      "metadata": {
        "id": "uWl_TvOomuN3"
      },
      "source": [
        "### Fonctions"
      ]
    },
    {
      "cell_type": "markdown",
      "metadata": {
        "id": "Zqyq_Be1muN3"
      },
      "source": [
        "### Unit Testing"
      ]
    },
    {
      "cell_type": "markdown",
      "metadata": {
        "id": "4IyKNTH5muN3"
      },
      "source": [
        "### Matplotlib"
      ]
    }
  ],
  "metadata": {
    "language_info": {
      "name": "python"
    },
    "colab": {
      "provenance": [],
      "include_colab_link": true
    }
  },
  "nbformat": 4,
  "nbformat_minor": 0
}