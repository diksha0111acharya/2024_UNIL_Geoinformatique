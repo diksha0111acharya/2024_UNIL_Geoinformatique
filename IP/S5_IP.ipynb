{
 "cells": [
  {
   "cell_type": "markdown",
   "metadata": {},
   "source": [
    "# Gestion des fichiers, exceptions et tests"
   ]
  },
  {
   "cell_type": "markdown",
   "metadata": {},
   "source": [
    "Gérer les entrées et sorties de fichiers, comprendre comment gérer les erreurs, vérification du code\n",
    "\n",
    "- Lecture et écriture de fichiers\n",
    "- Introduction aux exceptions, gestion avec `try`, `except`, `else` et `finally`\n",
    "- Vérificatino du code à l'aide de tests automatisés\n"
   ]
  }
 ],
 "metadata": {
  "language_info": {
   "name": "python"
  }
 },
 "nbformat": 4,
 "nbformat_minor": 2
}
