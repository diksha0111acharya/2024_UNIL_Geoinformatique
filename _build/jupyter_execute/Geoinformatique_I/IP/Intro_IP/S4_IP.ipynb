{
 "cells": [
  {
   "cell_type": "markdown",
   "metadata": {},
   "source": [
    "# Fonctions"
   ]
  },
  {
   "cell_type": "markdown",
   "metadata": {},
   "source": [
    "Comprendre l'importance de l'organisation du code, de la structuration et de la réutilisation de code\n",
    "\n",
    "- Principe des fonctions, paramètres et valeurs de retour\n",
    "- Portée des variables (variables globales et locales)\n",
    "- Modules Python\n",
    "- Bibliothèques standards en Python"
   ]
  }
 ],
 "metadata": {
  "language_info": {
   "codemirror_mode": {
    "name": "ipython",
    "version": 3
   },
   "file_extension": ".py",
   "mimetype": "text/x-python",
   "name": "python",
   "nbconvert_exporter": "python",
   "pygments_lexer": "ipython3",
   "version": "3.9.18"
  }
 },
 "nbformat": 4,
 "nbformat_minor": 2
}