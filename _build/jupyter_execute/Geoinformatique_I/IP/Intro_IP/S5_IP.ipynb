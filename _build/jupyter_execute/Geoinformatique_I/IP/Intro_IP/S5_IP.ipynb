{
 "cells": [
  {
   "cell_type": "markdown",
   "metadata": {},
   "source": [
    "# Classes et objets, Meilleures pratiques, exceptions et tests"
   ]
  },
  {
   "cell_type": "markdown",
   "metadata": {},
   "source": [
    "Comprendre les principes de base de la programmation orientée objets. Comprendre comment gérer les erreurs, vérification du code. \n",
    "\n",
    "- Définition des classes, création d'objets\n",
    "- Principes d'héritage\n",
    "\n",
    "- Introduction aux exceptions, gestion avec `try`, `except`, `else` et `finally`\n",
    "- Vérificatino du code à l'aide de tests automatisés\n"
   ]
  }
 ],
 "metadata": {
  "language_info": {
   "codemirror_mode": {
    "name": "ipython",
    "version": 3
   },
   "file_extension": ".py",
   "mimetype": "text/x-python",
   "name": "python",
   "nbconvert_exporter": "python",
   "pygments_lexer": "ipython3",
   "version": "3.9.18"
  }
 },
 "nbformat": 4,
 "nbformat_minor": 2
}