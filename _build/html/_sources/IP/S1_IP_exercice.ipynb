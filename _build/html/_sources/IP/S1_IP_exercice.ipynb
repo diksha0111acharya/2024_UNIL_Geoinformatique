{
 "cells": [
  {
   "cell_type": "markdown",
   "metadata": {},
   "source": [
    "<a href=\"https://colab.research.google.com/github/tbeucler/2023_MLEES_JB/blob/main/ML_EES/IP/W1_S1_Tutorial.ipynb\" target=\"_parent\"><img src=\"https://colab.research.google.com/assets/colab-badge.svg\" alt=\"Open In Colab\"/></a>"
   ]
  },
  {
   "cell_type": "markdown",
   "metadata": {},
   "source": [
    "## **Exercice 1 - Introduction and basics of programming**"
   ]
  },
  {
   "cell_type": "markdown",
   "metadata": {},
   "source": [
    "### **1.1 - Premier code de Python :**\n",
    "\n",
    "Utiliser la fonction \"print()\" pour afficher le texte \"Hello world\"."
   ]
  },
  {
   "cell_type": "code",
   "execution_count": null,
   "metadata": {},
   "outputs": [],
   "source": [
    "# Premier script : \"Hello world\"\n",
    "print(\"_____\")"
   ]
  },
  {
   "cell_type": "markdown",
   "metadata": {},
   "source": [
    "### **1.2 - Variables et types de données :**\n"
   ]
  },
  {
   "cell_type": "code",
   "execution_count": null,
   "metadata": {},
   "outputs": [],
   "source": [
    "# Initialiser des données\n",
    "\n",
    "x = ____    # Remplacer par une valeur entière (interger)\n",
    "y = ____    # Remplacer par une valeur décimale (float)\n",
    "z = \"____\"  # Remplacer par une chaîne de caractères. Par exemple \"Python\""
   ]
  },
  {
   "cell_type": "markdown",
   "metadata": {},
   "source": [
    "Maintenant vérifions le type de ces variables à l'aide de la fonction \"type()\""
   ]
  },
  {
   "cell_type": "code",
   "execution_count": null,
   "metadata": {},
   "outputs": [],
   "source": [
    "# Comment vérifier le type ?\n",
    "print(type(__))  # Affiche le type de x\n",
    "print(type(__))  # Affiche le type de y\n",
    "print(type(__))  # Affiche le type de z"
   ]
  },
  {
   "cell_type": "markdown",
   "metadata": {},
   "source": [
    "### **1.3 - Opérations arithmétiques :**"
   ]
  },
  {
   "cell_type": "code",
   "execution_count": null,
   "metadata": {},
   "outputs": [],
   "source": [
    "a = ___  # Remplacer par une valeur entière\n",
    "b = ___  # Remplacer par une valeur entière"
   ]
  },
  {
   "cell_type": "code",
   "execution_count": null,
   "metadata": {},
   "outputs": [],
   "source": [
    "# Opérations arithmétiques\n",
    "addition = a + b  # Calcul de l'addition\n",
    "soustraction = ____  # Calcul de la soustraction entre a et b\n",
    "multiplication = ____  # Calcul de la multiplication entre a et b\n",
    "division = ____  # Calcul de la division de a par b"
   ]
  },
  {
   "cell_type": "code",
   "execution_count": null,
   "metadata": {},
   "outputs": [],
   "source": [
    "# Afficher les résultats\n",
    "print(\"Addition:\", ______)\n",
    "print(\"Soustraction:\", ______)\n",
    "print(\"Multiplication:\", ______)\n",
    "print(\"Division:\", ______)\n"
   ]
  },
  {
   "cell_type": "markdown",
   "metadata": {},
   "source": [
    "### **1.3 - Calcul d'émissions de CO2 :**"
   ]
  },
  {
   "cell_type": "code",
   "execution_count": null,
   "metadata": {},
   "outputs": [],
   "source": [
    "# Données\n",
    "distance_km = ____  # Distance parcourue en kilomètres\n",
    "consommation_essence_litres = ____  # Consommation d'essence en litres par 100 km"
   ]
  },
  {
   "cell_type": "code",
   "execution_count": null,
   "metadata": {},
   "outputs": [],
   "source": [
    "# Calcul des émissions de CO2 en grammes\n",
    "# Le facteur 23,7 est une estimation générale de la quantité de dioxyde de carbone (CO2) émise en grammes par litre de carburant brûlé. Il est utilisé pour convertir la consommation d'essence en émissions de CO2.\n",
    "emissions_CO2_g = (______ * _____) * 23.7"
   ]
  },
  {
   "cell_type": "code",
   "execution_count": null,
   "metadata": {},
   "outputs": [],
   "source": [
    "# Afficher le résultat\n",
    "print(\"Les émissions de CO2 pour\", _____, \"km parcourus sont de\", _______, \"grammes.\")"
   ]
  },
  {
   "cell_type": "markdown",
   "metadata": {},
   "source": [
    "### **1.4 - Calcul de la consommation d'énergie**"
   ]
  },
  {
   "cell_type": "code",
   "execution_count": null,
   "metadata": {},
   "outputs": [],
   "source": [
    "# Données\n",
    "puissance_appareil = ______  # Puissance de l'appareil en watts\n",
    "temps_utilisation_heures = ___  # Temps d'utilisation en heures par jour"
   ]
  },
  {
   "cell_type": "code",
   "execution_count": null,
   "metadata": {},
   "outputs": [],
   "source": [
    "# Calcul de la consommation d'énergie quotidienne en kilowatt-heures (kWh)\n",
    "# La division par 1000 est nécessaire pour convertir la puissance de l'appareil (exprimée en watts) en kilowatts, car 1 kilowatt équivaut à 1000 watts.\n",
    "consommation_quotidienne_kWh = (_______ * ______) / 1000"
   ]
  },
  {
   "cell_type": "code",
   "execution_count": null,
   "metadata": {},
   "outputs": [],
   "source": [
    "# Afficher le résultat\n",
    "print(\"La consommation d'énergie quotidienne de l'appareil est de\", ______, \"kWh.\")"
   ]
  }
 ],
 "metadata": {
  "language_info": {
   "name": "python"
  }
 },
 "nbformat": 4,
 "nbformat_minor": 2
}
