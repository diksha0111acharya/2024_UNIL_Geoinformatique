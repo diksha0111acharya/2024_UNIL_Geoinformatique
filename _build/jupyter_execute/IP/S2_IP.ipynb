{
 "cells": [
  {
   "cell_type": "markdown",
   "metadata": {},
   "source": [
    "# Structures de contrôle"
   ]
  },
  {
   "cell_type": "markdown",
   "metadata": {},
   "source": [
    "Conditions et boucles, débugage\n",
    "\n",
    "- Conditions `if`, `else`, `elif`\n",
    "- Boucles `for` et `while`\n",
    "- Principes de base pour détecter les erreurs de programmation"
   ]
  }
 ],
 "metadata": {
  "language_info": {
   "codemirror_mode": {
    "name": "ipython",
    "version": 3
   },
   "file_extension": ".py",
   "mimetype": "text/x-python",
   "name": "python",
   "nbconvert_exporter": "python",
   "pygments_lexer": "ipython3",
   "version": "3.9.18"
  }
 },
 "nbformat": 4,
 "nbformat_minor": 2
}