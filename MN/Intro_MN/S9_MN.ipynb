{
 "cells": [
  {
   "cell_type": "markdown",
   "metadata": {},
   "source": [
    "9- "
   ]
  }
 ],
 "metadata": {
  "language_info": {
   "name": "python"
  }
 },
 "nbformat": 4,
 "nbformat_minor": 2
}
