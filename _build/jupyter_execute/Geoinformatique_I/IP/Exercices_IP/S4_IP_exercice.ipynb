{
 "cells": [
  {
   "cell_type": "markdown",
   "metadata": {
    "colab_type": "text",
    "id": "view-in-github"
   },
   "source": [
    "<a href=\"https://colab.research.google.com/github/tbeucler/2024_UNIL_Geoinformatique/blob/main/Geoinformatique_I/IP/Exercices_IP/S4_IP_exercice.ipynb\" target=\"_parent\"><img src=\"https://colab.research.google.com/assets/colab-badge.svg\" alt=\"Open In Colab\"/></a>"
   ]
  },
  {
   "cell_type": "markdown",
   "metadata": {
    "id": "5pDD1HFMmuN1"
   },
   "source": [
    "## Exercice 4 - Fonction et calcul scientifique"
   ]
  },
  {
   "cell_type": "markdown",
   "metadata": {
    "id": "mnLZy8wEmuN2"
   },
   "source": [
    "### Numpy pour le calcul scientifique"
   ]
  },
  {
   "cell_type": "markdown",
   "metadata": {
    "id": "uWl_TvOomuN3"
   },
   "source": [
    "### Fonctions"
   ]
  },
  {
   "cell_type": "markdown",
   "metadata": {
    "id": "Zqyq_Be1muN3"
   },
   "source": [
    "### Unit Testing"
   ]
  },
  {
   "cell_type": "markdown",
   "metadata": {
    "id": "4IyKNTH5muN3"
   },
   "source": [
    "### Matplotlib"
   ]
  }
 ],
 "metadata": {
  "colab": {
   "include_colab_link": true,
   "provenance": []
  },
  "language_info": {
   "codemirror_mode": {
    "name": "ipython",
    "version": 3
   },
   "file_extension": ".py",
   "mimetype": "text/x-python",
   "name": "python",
   "nbconvert_exporter": "python",
   "pygments_lexer": "ipython3",
   "version": "3.9.18"
  }
 },
 "nbformat": 4,
 "nbformat_minor": 0
}