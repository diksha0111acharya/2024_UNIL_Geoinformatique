{
 "cells": [
  {
   "cell_type": "markdown",
   "metadata": {},
   "source": [
    "<a href=\"https://colab.research.google.com/github/tbeucler/2024_UNIL_Geoinformatique/blob/main/Geoinformatique_I/IP/Tutoriel_IP/S3_IP_tutoriel.ipynb\" target=\"_parent\"><img src=\"https://colab.research.google.com/assets/colab-badge.svg\" alt=\"Open In Colab\"/></a>"
   ]
  },
  {
   "cell_type": "markdown",
   "metadata": {},
   "source": [
    "## Tutoriel 3: Structure de données\n",
    "\n",
    "Dans cette section, nous aborderons les points suivants:\n",
    "\n",
    "1. File I/O\n",
    "2. List\n",
    "3. Tuples\n",
    "4. Sets\n",
    "5. Dictionnaires\n"
   ]
  },
  {
   "cell_type": "markdown",
   "metadata": {},
   "source": [
    "## File I/O\n",
    "Dans cette section, nous présenterons les fonctions de base que nous pouvons utiliser pour stocker et récupérer des données à partir de fichiers de différents formats.\n",
    "\n",
    "Pour les projets en sciences de l'environnement, les données de recherche sont le plus souvent stockées dans les formats suivants :\n",
    "1.   Fichiers texte (`TXT`)\n",
    "2.   Fichiers tabulaires (par exemple, `CSV`, `XLS`)\n",
    "3.   Données structurées / dictionnaires Python, etc. (par exemple, `Pickle`, `dill`, `JSON`)\n",
    "4.   Données maillées (par exemple, `HDF5`, `NetCDF`)\n",
    "\n",
    "Nous allons maintenant voir comment nous pouvons utiliser Python et différents paquets Python pour récupérer les données stockées dans ces formats, et comment sauvegarder vos données dans différents formats pour une utilisation ultérieure.\n",
    "\n",
    "Référence:\n",
    "*   CUSP UCSL bootcamp 2017 (https://github.com/Mohitsharma44/ucsl17)\n",
    "*   Python 3 tutorial (https://docs.python.org/3/tutorial/inputoutput.html)\n",
    "*   GSFC Python Bootcamp (https://github.com/astg606/py_materials/blob/master/useful_modules/)\n",
    "*   Working on JSON Data in Python (https://realpython.com/python-json/)\n",
    "*   PyHOGS (http://pyhogs.github.io/intro_netcdf4.html)"
   ]
  },
  {
   "cell_type": "markdown",
   "metadata": {},
   "source": [
    "Commençons par importer quelques paquets..."
   ]
  },
  {
   "cell_type": "code",
   "execution_count": null,
   "metadata": {},
   "outputs": [],
   "source": [
    "import csv\n",
    "import netCDF4\n",
    "import pickle\n",
    "import pandas as pd\n",
    "import xarray as xr\n",
    "import numpy as np"
   ]
  },
  {
   "cell_type": "markdown",
   "metadata": {},
   "source": [
    "### Fichiers TXT\n",
    "Nous allons maintenant apprendre à écrire des informations dans un fichier .TXT et à les relire à l'aide de fonctions Python intégrées. Les données utilisées dans cette partie du tutoriel seront très simples. Dans les prochains exercices, nous présenterons également les commandes des paquets communautaires qui nous permettent de lire et de stocker des données plus complexes.\n",
    "\n",
    "#### Ouverture de fichiers :\n",
    "Les fichiers peuvent être ouverts en utilisant la fonction intégrée de Python `open()`. Cette fonction crée un objet fichier pour les opérations suivantes. Utilisez la syntaxe suivante pour lire un fichier TXT : \\\\\n",
    "`fhandler = open(file_name, access mode, encoding)`\n",
    "\n",
    "- `nom_du_fichier` : Le nom du fichier sur lequel vous souhaitez effectuer vos opérations d'E/S. \\\n",
    "Notez qu'il s'agit du chemin d'accès complet au fichier (par exemple, $\\text{\\\\home\\\\Documents\\\\file.txt}$ )\n",
    "- `encodage` : Schéma d'encodage à utiliser pour convertir le flux d'octets en texte. (Standard=`utf-8`)\n",
    "- `access_mode` : La façon dont un fichier est ouvert, les choix disponibles pour cette option incluent :\n",
    "\n",
    "|access_mode | Its Function|\n",
    "|:------|------------:|\n",
    "|r\t|Ouvre un fichier en lecture seule|\n",
    "|rb\t|Ouvre un fichier en lecture seule au format binaire|\n",
    "|r+\t|Ouvre un fichier pour la lecture et l'écriture|\n",
    "|rb+\t|Ouvre un fichier pour la lecture et l'écriture au format binaire|\n",
    "|w\t|Ouvre un fichier en écriture uniquement|\n",
    "|wb\t|Ouvre un fichier en écriture uniquement au format binaire|\n",
    "|w+\t|Ouvre un fichier en lecture et en écriture|\n",
    "|wb+\t|Ouvre un fichier pour l'écriture et la lecture au format binaire|\n",
    "|a\t|Ouvre un fichier pour l'ajouter|\n",
    "|ab\t|Ouvre un fichier pour l'ajouter en binaire|\n",
    "|a+\t|Ouvre un fichier pour l'ajout et la lecture|\n",
    "|ab+\t|Ouvre un fichier pour l'ajout et la lecture au format binaire|\n",
    "\n",
    "Dans l'exemple ci-dessous, nous allons essayer de stocker plusieurs phrases dans un nouveau fichier TXT, et utiliser la fonction `open()` pour voir si le code fonctionne comme prévu."
   ]
  },
  {
   "cell_type": "code",
   "execution_count": null,
   "metadata": {},
   "outputs": [],
   "source": [
    "fhandler = open('test.txt', 'w', encoding=\"utf-8\")\n",
    "fhandler.write('Hello World!\\n')\n",
    "fhandler.write('I am a UNIL Master Student.\\n')\n",
    "fhandler.write('I am learning how to code!\\n')\n",
    "fhandler.close()"
   ]
  },
  {
   "cell_type": "markdown",
   "metadata": {},
   "source": [
    "```{note}\n",
    "In the code above, we use the `open()` command to create a *write-only* (`access_mode='w'`) file `test.txt`. The open command creates a file object (`fhandler`) on which we can perform extra operations.\n",
    "\n",
    "We then try to add three sentences to the TXT file using the `.write()` operation on the file object.\n",
    "\n",
    "Remember to close the file with `.close()` command so that the changes can be finalized!\n",
    "\n",
    "If the code is writing, we should see a `test.txt` file created in the same path as this notebook. Let's see if that's the case!\n",
    "```"
   ]
  },
  {
   "cell_type": "code",
   "execution_count": null,
   "metadata": {},
   "outputs": [],
   "source": [
    "! ls ."
   ]
  },
  {
   "cell_type": "code",
   "execution_count": null,
   "metadata": {},
   "outputs": [],
   "source": [
    "! cat test.txt"
   ]
  },
  {
   "cell_type": "markdown",
   "metadata": {},
   "source": [
    "Hourra ! Ça marche ! 😀\n",
    "\n",
    "Mais n'avons-nous pas dit que nous voulions le relire ? 🤨\n",
    "\n",
    "Essayons de lire le fichier alors ! Pouvez-vous penser à des façons de le faire ?\n",
    "\n",
    "Voici quelques-unes des fonctions que vous pourriez utiliser.\n",
    "\n",
    "1.   `.close()` : Ferme le fichier actuellement ouvert.\n",
    "2.   `.readline([size])` : Lit les chaînes de caractères d'un fichier jusqu'à ce qu'il atteigne le caractère de nouvelle ligne `\\n` si le paramètre `size` est vide. Sinon, il lira la chaîne de caractères de la taille donnée.\n",
    "3.   `.readlines([size])` : Appelle répétitivement `.readline()` jusqu'à la fin du fichier.\n",
    "4.   `.write(str)` : Écrit la chaîne de caractères str dans le fichier.\n",
    "5.   `.writelines([list])` : Ecrit une séquence de chaînes de caractères dans un fichier. Aucune nouvelle ligne n'est ajoutée automatiquement."
   ]
  },
  {
   "cell_type": "code",
   "execution_count": null,
   "metadata": {},
   "outputs": [],
   "source": [
    "fhandler = open('test.txt','r',encoding='utf-8')\n",
    "fhandler.readlines()"
   ]
  },
  {
   "cell_type": "markdown",
   "metadata": {},
   "source": [
    "Et si nous voulions ajouter du texte au fichier ?"
   ]
  },
  {
   "cell_type": "code",
   "execution_count": null,
   "metadata": {},
   "outputs": [],
   "source": [
    "with open('test.txt', 'r+') as fhandler:\n",
    "  print(fhandler.readlines())\n",
    "  fhandler.writelines(['Now,\\n', 'I am trying to', ' add some stuff.'])\n",
    "  # Go to the starting of file\n",
    "  fhandler.seek(0)\n",
    "  # Print the content of file\n",
    "  print(fhandler.readlines())"
   ]
  },
  {
   "cell_type": "markdown",
   "metadata": {},
   "source": [
    "Ici, nous utilisons une autre méthode pour ouvrir et écrire le fichier de données.\n",
    "En utilisant l'instruction `with` pour ouvrir le fichier TXT, nous nous assurons que les données sont automatiquement fermées après l'opération finale. Nous n'avons plus besoin d'écrire l'instruction `fhandler.close()`."
   ]
  },
  {
   "cell_type": "markdown",
   "metadata": {},
   "source": [
    "### Fichiers tabulaires\n",
    "Que feriez-vous si vous aviez des données joliment organisées dans le format ci-dessous ?\n",
    "```\n",
    "Données1, Données2, Données3\n",
    "Exemple01, Exemple02, Exemple03\n",
    "Exemple11, Exemple12, Exemple13\n",
    "```\n",
    "Lorsque vous ouvrez un fichier de ce type dans Excel, voici à quoi il ressemble :\n",
    "\n",
    "||||\n",
    "|:--|:--|:--|\n",
    "|Donnée1\t|Donnée2\t|Donnée3|\n",
    "|Exemple1\t|Exemple2\t|Exemple3|\n",
    "\n",
    "Il s'agit d'un fichier tabulaire _séparé par des virgules_. Les fichiers de ce type sont généralement enregistrés avec l'extension `.csv`. Les fichiers `.csv` peuvent ensuite être ouverts et visualisés à l'aide d'un tableur, tel que Google Sheets, Numbers ou Microsoft Excel.\n",
    "\n",
    "Mais qu'en est-il si nous voulons utiliser les données dans Python ?\n",
    "\n",
    "#### Ouverture des fichiers :\n",
    "Heureusement, il existe des paquets communautaires qui peuvent vous aider à importer et à récupérer vos données tabulaires avec un minimum d'effort. Nous présentons ici deux de ces packages : CSV et Pandas.\n",
    "\n",
    "##### Lire des fichiers CSV avec le paquetage `CSV`\n",
    "\n",
    "`reader()` peut être utilisé pour créer un objet qui est utilisé pour lire les données d'un fichier CSV. Le lecteur peut être utilisé comme un itérateur pour traiter les lignes du fichier dans l'ordre. Voyons un exemple :"
   ]
  },
  {
   "cell_type": "code",
   "execution_count": null,
   "metadata": {},
   "outputs": [],
   "source": [
    "import pooch\n",
    "import urllib.request\n",
    "datafile = pooch.retrieve('https://unils-my.sharepoint.com/:x:/g/personal/tom_beucler_unil_ch/ETDZdgCkWbZLiv_LP6HKCOAB2NP7H0tUTLlP_stknqQHGw?download=1',\n",
    "                          known_hash='c7676360997870d00a0da139c80fb1b6d26e1f96050e03f2fed75b921beb4771')"
   ]
  },
  {
   "cell_type": "code",
   "execution_count": null,
   "metadata": {},
   "outputs": [],
   "source": [
    "row = []\n",
    "# https://unils-my.sharepoint.com/:x:/g/personal/tom_beucler_unil_ch/ETDZdgCkWbZLiv_LP6HKCOAB2NP7H0tUTLlP_stknqQHGw?e=N541Yq\n",
    "with open(datafile, 'r') as fh:\n",
    "  reader = csv.reader(fh)\n",
    "  for info in reader:\n",
    "    row.append(info)"
   ]
  },
  {
   "cell_type": "code",
   "execution_count": null,
   "metadata": {},
   "outputs": [],
   "source": [
    "print(row[0])"
   ]
  },
  {
   "cell_type": "code",
   "execution_count": null,
   "metadata": {},
   "outputs": [],
   "source": [
    "print(row[1])"
   ]
  },
  {
   "cell_type": "markdown",
   "metadata": {},
   "source": [
    "``{tip}\n",
    "Dans le code ci-dessus, nous utilisons la méthode `csv.reader()` pour lire itérativement chaque ligne du fichier CSV.\n",
    "\n",
    "Nous ajoutons une nouvelle ligne à une liste vide à chaque itération.\n",
    "\n",
    "Nous utilisons la fonction `print()` pour voir ce qui a été écrit dans la liste. Nous avons constaté que la première ligne contient des informations sur les noms de variables, tandis que la deuxième ligne contient des données à un pas de temps donné.\n",
    "```\n",
    "\n",
    "#### Extraire les données et les écrire dans un nouveau fichier CSV :\n",
    "Le fichier CSV que nous venons d'importer contient en fait les données des stations météorologiques de janvier 2022 à août 2022. Que se passe-t-il si nous ne voulons que les données des cinq premières lignes ? Pouvons-nous extraire les données et les enregistrer dans un nouveau fichier CSV ?"
   ]
  },
  {
   "cell_type": "code",
   "execution_count": null,
   "metadata": {},
   "outputs": [],
   "source": [
    "with open('testsmall.csv', 'w') as fh:\n",
    "  writer = csv.writer(fh)\n",
    "  for num in range(5):\n",
    "    writer.writerow(row[num])"
   ]
  },
  {
   "cell_type": "markdown",
   "metadata": {},
   "source": [
    "```{note}\n",
    "\n",
    "En fait, il existe un meilleur paquetage pour les données tabulaires. Cette bibliothèque s'appelle `Pandas`. Nous présenterons ce paquetage plus en détail la semaine prochaine. Pour l'instant, nous allons simplement démontrer que nous pouvons utiliser pandas pour faire la même procédure FileI/O que nous avons faite plus tôt avec CSV.\n",
    "\n",
    "Ici, nous lisons la grande feuille de données de la station météorologique `datafile` avec la fonction pandas `.read_csv()`.\n",
    "```"
   ]
  },
  {
   "cell_type": "code",
   "execution_count": null,
   "metadata": {},
   "outputs": [],
   "source": [
    "# importer fichier CSV avec pandas\n",
    "ALOdatasheet = pd.read_csv(datafile)"
   ]
  },
  {
   "cell_type": "code",
   "execution_count": null,
   "metadata": {},
   "outputs": [],
   "source": [
    "# Exporter les cinq premières lignes du cadre de données Pandas vers un fichier CSV\n",
    "ALOdatasheet[0:5].to_csv('./testsmall_pd.csv')"
   ]
  },
  {
   "cell_type": "markdown",
   "metadata": {},
   "source": [
    "### Sérialisation et désérialisation avec Pickle\n",
    "(Réécrit à partir du GSFC Python Bootcamp)\n",
    "\n",
    "Pickle est un format interne de Python qui permet d'écrire des données arbitraires dans un fichier de manière à pouvoir les relire, intactes.\n",
    "* `pickle` \"sérialise\" d'abord l'objet avant de l'écrire dans un fichier.\n",
    "* Le décapage (sérialisation) est un moyen de convertir un objet Python (liste, dict, etc.) en un flux de caractères qui contient toutes les informations nécessaires pour reconstruire l'objet dans un autre script Python.\n",
    "\n",
    "Les types suivants peuvent être sérialisés et désérialisés en utilisant le module `pickle` :\n",
    "* Tous les types de données natifs supportés par Python (booléens, None, entiers, flottants, nombres complexes, chaînes de caractères, octets, tableaux d'octets).\n",
    "* Dictionnaires, ensembles, listes et tuples - tant qu'ils contiennent des objets sélectionnables.\n",
    "* Les fonctions (décryptées par leur nom de référence, et non par leur valeur) et les classes qui sont définies au niveau supérieur d'un module.\n",
    "\n",
    "Les fonctions principales de `pickle` sont :\n",
    "\n",
    "* `dump()` : récupère des données en acceptant des données et un objet fichier.\n",
    "* `load()` : prend un objet fichier, reconstruit les objets à partir de la représentation décapée, et les renvoie.\n",
    "* `dumps()` : renvoie les données décryptées sous forme de chaîne de caractères.\n",
    "* `loads()` : lit les données extraites d'une chaîne.\n",
    "\n",
    "`dump()`/`load()` sérialise/désérialise les objets à travers des fichiers mais `dumps()`/`loads()` sérialise/désérialise les objets à travers une représentation sous forme de chaîne de caractères."
   ]
  },
  {
   "cell_type": "code",
   "execution_count": null,
   "metadata": {},
   "outputs": [],
   "source": [
    "# Exemple de dictionnaire Python\n",
    "data_org = { 'mydata1':np.linspace(0,800,801), 'mydata2':np.linspace(0,60,61)}"
   ]
  },
  {
   "cell_type": "code",
   "execution_count": null,
   "metadata": {},
   "outputs": [],
   "source": [
    "# Enregistrer un dictionnaire Python dans un fichier pickle\n",
    "with open('pickledict_sample.pkl', 'wb') as fid:\n",
    "     pickle.dump(data_org, fid)\n",
    "# Deserialize saved pickle file\n",
    "with open('pickledict_sample.pkl', 'rb') as fid:\n",
    "     data3 = pickle.load(fid)"
   ]
  },
  {
   "cell_type": "code",
   "execution_count": null,
   "metadata": {},
   "outputs": [],
   "source": [
    "for strg in data_org.keys():\n",
    "  print(f\"Variable {strg} is the same in data_org and data3: {(data_org[strg]==data3[strg]).all()}\")"
   ]
  },
  {
   "cell_type": "markdown",
   "metadata": {},
   "source": [
    "## **Bonus**\n",
    "\n",
    "Nous avons déjà abordé un grand nombre de sujets en une journée, mais votre professeur a également rédigé des instructions sur la lecture et l'écriture de données dans d'autres formats ! Le tutoriel suivant sera donc laissé à votre disposition pour que vous puissiez l'expérimenter chez vous."
   ]
  },
  {
   "cell_type": "markdown",
   "metadata": {},
   "source": [
    "### Données structurées avec JSON\n",
    "JSON est un format populaire pour les données structurées qui peut être utilisé dans Python et Perl, entre autres langages.\n",
    "Le format JSON est construit sur une collection de paires nom/valeur. Les informations sur le nom peuvent être un objet, un enregistrement, un dictionnaire, une table de hachage, une liste à clés ou un tableau associatif. La valeur associée au nom peut être un tableau, un vecteur, une liste ou une séquence.\n",
    "\n",
    "Nous pouvons utiliser le paquetage `json` pour les entrées-sorties. La syntaxe du paquet est très similaire à celle de `pickle` :\n",
    "\n",
    "* `dump()` : écriture d'une chaîne encodée dans un fichier.\n",
    "* `load()` : Décodage lors de la lecture d'un fichier JSON.\n",
    "* `dumps()` : encodage en objets JSON\n",
    "* `loads()` : Décode la chaîne JSON.\n",
    "\n",
    "**Exemple de données JSON**\n",
    "\n",
    "```python\n",
    "{\n",
    "    \"stations\" : [\n",
    "        {\n",
    "            \"acronyme\" : \"BLD\",\n",
    "            \"nom\" : \"Boulder Colorado\",\n",
    "            \"latitude\" : 40.00,\n",
    "            \"longitude\" : -105.25\n",
    "        },\n",
    "        {\n",
    "            \"acronyme\" : \"BHD\",\n",
    "            \"name\" : \"Baring Head Wellington New Zealand\",\n",
    "            \"latitude\" : -41.28,\n",
    "            \"longitude\" : 174.87\n",
    "        }\n",
    "    ]\n",
    "}\n",
    "```"
   ]
  },
  {
   "cell_type": "markdown",
   "metadata": {},
   "source": [
    "Essayons de lire ce cadre de données JSON avec `json` !"
   ]
  },
  {
   "cell_type": "code",
   "execution_count": 3,
   "metadata": {},
   "outputs": [],
   "source": [
    "import json\n",
    "json_data = '{\"stations\": [{\"acronym\": \"BLD\", \\\n",
    "                                \"nom\": \"Boulder Colorado\", \\\n",
    "                            \"latitude\": 40.00, \\\n",
    "                            \"longitude\": -105.25}, \\\n",
    "                            {\"acronym\": \"BHD\", \\\n",
    "                             \"nom\": \"Baring Head Wellington New Zealand\",\\\n",
    "                             \"latitude\": -41.28, \\\n",
    "                             \"longitude\": 174.87}]}'\n",
    "\n",
    "python_obj = json.loads(json_data)"
   ]
  },
  {
   "cell_type": "code",
   "execution_count": 4,
   "metadata": {},
   "outputs": [
    {
     "name": "stdout",
     "output_type": "stream",
     "text": [
      "Boulder Colorado\n",
      "Baring Head Wellington New Zealand\n"
     ]
    }
   ],
   "source": [
    "for x in python_obj['stations']:\n",
    "    print(x[\"nom\"])"
   ]
  },
  {
   "cell_type": "markdown",
   "metadata": {},
   "source": [
    "### Convertir python_obj en JSON\n",
    "print(json.dumps(python_obj, sort_keys=True, indent=4))"
   ]
  },
  {
   "cell_type": "markdown",
   "metadata": {},
   "source": [
    "Nous allons maintenant essayer de convertir un objet python en JSON et de l'écrire dans un fichier.\n",
    "La syntaxe pour la sérialisation et la désérialisation dans le paquet `json` est presque la même que celle de `pickle`"
   ]
  },
  {
   "cell_type": "code",
   "execution_count": 6,
   "metadata": {},
   "outputs": [],
   "source": [
    "# Convertir les objets python en JSON\n",
    "x = {\n",
    "  \"prénom\" : \"John\",\n",
    "  \"âge\" : 30,\n",
    "  \"marié\" : True,\n",
    "  \"divorcé\" : False,\n",
    "  \"enfants\" : (\"Ann\", \"Billy\"),\n",
    "  \"animaux\" : None,\n",
    "  \"voitures\" : [\n",
    "    {\"modèle\" : \"BMW 230\", \"mpg\" : 27.5},\n",
    "    {\"Modèle\" : \"Ford Edge\", \"mpg\" : 24.1}\n",
    "  ]\n",
    "}"
   ]
  },
  {
   "cell_type": "code",
   "execution_count": 7,
   "metadata": {},
   "outputs": [
    {
     "name": "stdout",
     "output_type": "stream",
     "text": [
      "{'prénom': 'John', 'âge': 30, 'marié': True, 'divorcé': False, 'enfants': ['Ann', 'Billy'], 'animaux': None, 'voitures': [{'modèle': 'BMW 230', 'mpg': 27.5}, {'Modèle': 'Ford Edge', 'mpg': 24.1}]}\n"
     ]
    }
   ],
   "source": [
    "# Sérialisation\n",
    "with open('./pythonobj.json','w') as sid :\n",
    "  json.dump(x,sid)\n",
    "# Désérialisation\n",
    "with open('./pythonobj.json', 'r') as sid :\n",
    "  z = json.load(sid)\n",
    "\n",
    "print(z)"
   ]
  },
  {
   "cell_type": "markdown",
   "metadata": {},
   "source": [
    "### Données quadrillées à N dimensions avec NetCDF4\n",
    "Les jeux de données géoscientifiques contiennent souvent plusieurs dimensions. Par exemple, les résultats des modèles climatiques contiennent généralement 4 dimensions : le temps (t), le niveau vertical (z), la longitude (lon) et la latitude (lat). Ces données sont trop complexes pour être stockées dans des tableaux.\n",
    "\n",
    "Développé par _Unidata_ (une filiale de UCAR), le format NetCDF contient une structure hiérarchique qui permet une meilleure organisation et un meilleur stockage de grands ensembles de données multidimensionnelles, d'informations sur les axes et d'autres métadonnées. Il est bien adapté à la gestion de grands ensembles de données numériques, car il permet aux utilisateurs d'accéder à des parties d'un ensemble de données sans avoir à le charger entièrement en mémoire.\n",
    "\n",
    "Nous pouvons utiliser le paquetage `netCDF4` pour créer, lire et stocker des données dans NetCDF4. Un autre paquetage, `xarray`, est également disponible pour ce format de données.\n",
    "\n",
    "#### **Voici comment vous créez et stockez normalement des données dans un fichier netCDF:**\n",
    "\n",
    "\n",
    "1.   Ouvrez/créez un jeu de données netCDF.\n",
    "2.   Définissez les dimensions des données.\n",
    "3.   Construire des variables netCDF en utilisant les dimensions définies.\n",
    "4.   Transférer les données dans les variables netCDF.\n",
    "5.   Ajouter des attributs aux variables et à l'ensemble de données (facultatif mais recommandé).\n",
    "6.   Fermez le jeu de données netCDF."
   ]
  },
  {
   "cell_type": "markdown",
   "metadata": {},
   "source": [
    "##### **Ouvrir un jeu de données netCDF4**"
   ]
  },
  {
   "cell_type": "code",
   "execution_count": null,
   "metadata": {},
   "outputs": [],
   "source": [
    "ncfid = netCDF4.Dataset('sample_netcdf.nc', mode='w', format='NETCDF4')"
   ]
  },
  {
   "cell_type": "markdown",
   "metadata": {},
   "source": [
    "`modeType` a les options suivantes :\n",
    "* 'w' : pour créer un nouveau fichier\n",
    "* 'r+' : pour lire et écrire dans un fichier existant\n",
    "* 'r' : pour lire (uniquement) un fichier existant\n",
    "* 'a' : pour ajouter un fichier à un fichier existant\n",
    "\n",
    "`fileFormat` a les options suivantes :\n",
    "* 'NETCDF3_CLASSIC' : Format netCDF original     \n",
    "* 'NETCDF3_64BIT_OFFSET' : Utilisé pour alléger les restrictions de taille des fichiers netCDF classiques.\n",
    "* 'NETCDF4_CLASSIC'\n",
    "* 'NETCDF4' : Offre de nouvelles fonctionnalités telles que les groupes, les types composés, les tableaux de longueur variable, les nouveaux types d'entiers non signés, l'accès parallèle aux E/S, etc.\n",
    "* 'NETCDF3_64BIT_DATA'"
   ]
  },
  {
   "cell_type": "markdown",
   "metadata": {},
   "source": [
    "##### **Création de dimensions dans un fichier netCDF</font>**\n",
    "* Déclarez les dimensions avec `.createDimension(size)`\n",
    "* Pour des dimensions illimitées, utilisez `None` ou `0` comme taille.\n",
    "* Les dimensions de taille illimitée doivent être déclarées avant (\"à gauche de\") les autres dimensions."
   ]
  },
  {
   "cell_type": "code",
   "execution_count": null,
   "metadata": {},
   "outputs": [],
   "source": [
    "# Définir les dimensions des données\n",
    "time = ncfid.createDimension('time', None)\n",
    "lev = ncfid.createDimension('lev', 72)\n",
    "lat = ncfid.createDimension('lat', 91)\n",
    "lon = ncfid.createDimension('lon', 144)"
   ]
  },
  {
   "cell_type": "code",
   "execution_count": null,
   "metadata": {},
   "outputs": [],
   "source": [
    "##########################################################################################\n",
    "# Créer des variables de dimension et des variables de données pré-remplies avec fill_value\n",
    "##########################################################################################\n",
    "# Variables de dimension\n",
    "times = ncfid.createVariable('time','f8',('time',))\n",
    "levels = ncfid.createVariable('lev','i4',('lev',))\n",
    "latitudes = ncfid.createVariable('lat','f4',('lat',))\n",
    "longitudes = ncfid.createVariable('lon','f4',('lon',))\n",
    "# Variable de données pré-remplie\n",
    "temp = ncfid.createVariable('temp','f4',\n",
    "                            ('time', 'lev', 'lat', 'lon',),\n",
    "                            fill_value=1.0e15)"
   ]
  },
  {
   "cell_type": "markdown",
   "metadata": {},
   "source": [
    "##### **Ajouter des attributs variables</font>**"
   ]
  },
  {
   "cell_type": "code",
   "execution_count": null,
   "metadata": {},
   "outputs": [],
   "source": [
    "import datetime\n",
    "latitudes.long_name = 'latitude'\n",
    "latitudes.units = 'degrés nord'\n",
    "\n",
    "longitudes.nom_long = 'longitude'\n",
    "longitudes.units = 'degrés est'\n",
    "\n",
    "levels.long_name = 'niveaux verticaux'\n",
    "levels.units = 'hPa'\n",
    "levels.positive = 'down'\n",
    "\n",
    "beg_date = datetime.datetime(year=2019, month=1, day=1)\n",
    "times.long_name = 'temps'\n",
    "times.units = beg_date.strftime('heures depuis %Y-%m-%d %H:%M:%S')\n",
    "times.calendar = 'gregorian'\n",
    "\n",
    "temp.long_name = 'température'\n",
    "temp.units = 'K'\n",
    "temp.nom_standard = 'température_atmosphérique'"
   ]
  },
  {
   "cell_type": "markdown",
   "metadata": {},
   "source": [
    "##### **Écrire des données dans un fichier**"
   ]
  },
  {
   "cell_type": "code",
   "execution_count": null,
   "metadata": {},
   "outputs": [],
   "source": [
    "latitudes[ :] = np.arange(-90,91,2.0)\n",
    "longitudes[ :] = np.arange(-180,180,2.5)\n",
    "levels[ :] = np.arange(0,72,1)\n",
    "\n",
    "out_frequency = 3 # fréquence de sortie en heures\n",
    "num_records = 5\n",
    "dates = [beg_date + n*datetime.timedelta(hours=out_frequency) for n in range(num_records)]\n",
    "times[ :] = netCDF4.date2num(dates, units=times.units, calendar=times.calendar)\n",
    "for i in range(num_records) :\n",
    "    temp[i, :,:, :] = np.random.uniform(size=(levels.size,\n",
    "                                            latitudes.size,\n",
    "                                            longitudes.size))"
   ]
  },
  {
   "cell_type": "code",
   "execution_count": null,
   "metadata": {},
   "outputs": [],
   "source": [
    "ncfid.close()"
   ]
  },
  {
   "cell_type": "markdown",
   "metadata": {},
   "source": [
    "#### Nous allons maintenant lire le fichier netCDF4 stocké pour voir ce que nous venons de faire."
   ]
  },
  {
   "cell_type": "code",
   "execution_count": null,
   "metadata": {},
   "outputs": [],
   "source": [
    "databank = netCDF4.Dataset('./sample_netcdf.nc', mode='r')"
   ]
  },
  {
   "cell_type": "code",
   "execution_count": null,
   "metadata": {},
   "outputs": [],
   "source": [
    "# Nous imprimons les noms des variables dans le fichier `sample_netcdf.nc`.\n",
    "print(databank.variables.keys())"
   ]
  },
  {
   "cell_type": "code",
   "execution_count": null,
   "metadata": {},
   "outputs": [],
   "source": [
    "# Nous pouvons lire les données comme suit\n",
    "time   = ncfid.variables['time'][:]\n",
    "lev    = ncfid.variables['lev'][:]\n",
    "lat    = ncfid.variables['lat'][:]\n",
    "lon    = ncfid.variables['lon'][:]\n",
    "temp   = ncfid.variables['temp'][:]"
   ]
  },
  {
   "cell_type": "markdown",
   "metadata": {},
   "source": [
    "```{important}\n",
    "\n",
    "Lors de la lecture de données à partir d'un fichier :\n",
    "\n",
    "- Si vous n'incluez pas `[ :]` à la fin de `variables[var_name]`, vous obtenez un objet variable.\n",
    "- Si vous incluez `[ :]` (ou `[ :,:]`, `[0, i:j, :]`, etc.) à la fin de `variables[var_name]`, vous obtenez le tableau Numpy contenant les données.\n",
    "```"
   ]
  },
  {
   "cell_type": "code",
   "execution_count": null,
   "metadata": {},
   "outputs": [],
   "source": [
    "print(lat)"
   ]
  },
  {
   "cell_type": "markdown",
   "metadata": {},
   "source": [
    "## List"
   ]
  },
  {
   "cell_type": "markdown",
   "metadata": {},
   "source": [
    "## Tuples"
   ]
  },
  {
   "cell_type": "markdown",
   "metadata": {},
   "source": [
    "## Sets"
   ]
  },
  {
   "cell_type": "markdown",
   "metadata": {},
   "source": [
    "## Dictionnaires"
   ]
  }
 ],
 "metadata": {
  "kernelspec": {
   "display_name": "base",
   "language": "python",
   "name": "python3"
  },
  "language_info": {
   "codemirror_mode": {
    "name": "ipython",
    "version": 3
   },
   "file_extension": ".py",
   "mimetype": "text/x-python",
   "name": "python",
   "nbconvert_exporter": "python",
   "pygments_lexer": "ipython3",
   "version": "3.9.13"
  }
 },
 "nbformat": 4,
 "nbformat_minor": 2
}
