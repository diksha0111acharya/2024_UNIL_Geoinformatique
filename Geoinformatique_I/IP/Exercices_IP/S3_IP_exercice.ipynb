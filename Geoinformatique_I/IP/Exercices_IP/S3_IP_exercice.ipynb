{
  "cells": [
    {
      "cell_type": "markdown",
      "metadata": {
        "id": "view-in-github",
        "colab_type": "text"
      },
      "source": [
        "<a href=\"https://colab.research.google.com/github/tbeucler/2024_UNIL_Geoinformatique/blob/main/Geoinformatique_I/IP/Exercices_IP/S3_IP_exercice.ipynb\" target=\"_parent\"><img src=\"https://colab.research.google.com/assets/colab-badge.svg\" alt=\"Open In Colab\"/></a>"
      ]
    },
    {
      "cell_type": "markdown",
      "metadata": {
        "id": "swlCFCTQkXuq"
      },
      "source": [
        "## Exercice 3 - Structure de données"
      ]
    },
    {
      "cell_type": "markdown",
      "metadata": {
        "id": "P806BJU3kXur"
      },
      "source": [
        "### File I/O"
      ]
    },
    {
      "cell_type": "markdown",
      "metadata": {
        "id": "OupX0XbDkXus"
      },
      "source": [
        "### List"
      ]
    },
    {
      "cell_type": "markdown",
      "metadata": {
        "id": "rV65ZS6VkXus"
      },
      "source": [
        "### Tuples"
      ]
    },
    {
      "cell_type": "markdown",
      "metadata": {
        "id": "is9_dXPkkXut"
      },
      "source": [
        "### Sets"
      ]
    },
    {
      "cell_type": "markdown",
      "metadata": {
        "id": "MW5zSnLvkXuu"
      },
      "source": [
        "### Dictionnaires"
      ]
    }
  ],
  "metadata": {
    "language_info": {
      "name": "python"
    },
    "colab": {
      "provenance": [],
      "include_colab_link": true
    }
  },
  "nbformat": 4,
  "nbformat_minor": 0
}