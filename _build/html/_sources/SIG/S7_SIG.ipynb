{
 "cells": [
  {
   "cell_type": "markdown",
   "metadata": {},
   "source": [
    "# Gestion des données SIG"
   ]
  },
  {
   "cell_type": "markdown",
   "metadata": {},
   "source": [
    "Savoir éditer des données vectorielles dans QGIS, gérer les formats de données avec Python.\n",
    "\n",
    "- Formats de données SIG\n",
    "- Création et édition de couches: numérisation, édition\n",
    "- Gestion des sources de données SIG avec Python et Fiona\n",
    "- Introduction à PyQGIS"
   ]
  }
 ],
 "metadata": {
  "language_info": {
   "name": "python"
  }
 },
 "nbformat": 4,
 "nbformat_minor": 2
}
