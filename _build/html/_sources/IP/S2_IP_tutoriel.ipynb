{
 "cells": [
  {
   "cell_type": "markdown",
   "metadata": {},
   "source": [
    "<a href=\"https://colab.research.google.com/github/tbeucler/2024_UNIL_Geoinformatique/blob/main/IP/S2_IP_tutoriel.ipynb\" target=\"_parent\"><img src=\"https://colab.research.google.com/assets/colab-badge.svg\" alt=\"Open In Colab\"/></a>"
   ]
  },
  {
   "cell_type": "markdown",
   "metadata": {},
   "source": [
    "## **Tutoriel 2: Structure de contrôle**\n",
    "La première chose à savoir est que les programmes Python (ou _scripts Python_) sont généralement exécutés de manière séquentielle et qu'une instruction de code ne sera pas exécutée à nouveau une fois qu'elle aura été utilisée.\n",
    "\n",
    "Cependant, dans des situations réelles, vous aurez souvent besoin d'exécuter un bout de code plusieurs fois, ou d'exécuter une partie d'un code en fonction de différentes conditions. Nous utilisons les instructions de flux de contrôle pour ces tâches légèrement plus complexes.\n",
    "\n",
    "Dans cette section, nous aborderons les points suivants:\n",
    "\n",
    "1. Les instructions conditionnelles -- if, else et elif\n",
    "2. Instructions de boucle -- for, while\n",
    "3. Instructions de contrôle de boucle -- break, continue, pass\n",
    "\n",
    "Référence:\n",
    "* IBM Congnitive Class - Intro to Python (https://github.com/computationalcore/introduction-to-python)\n",
    "* CUSP UCSL bootcamp 2017 (https://github.com/Mohitsharma44/ucsl17)"
   ]
  },
  {
   "cell_type": "markdown",
   "metadata": {},
   "source": [
    "## 1- Les instructions conditionnelles\n",
    "Ici, nous combinons les opérateurs relationnels et les opérateurs logiques afin qu'un programme puisse avoir un flux d'informations différent en fonction de certaines conditions. En d'autres termes, certains extraits de code ne sont exécutés que si certaines conditions sont remplies.\n",
    "\n",
    "La logique des déclarations conditionnelles est simple. `if` -> `condition remplie` -> faire quelque chose. `si` -> `condition non remplie` -> faire autre chose."
   ]
  },
  {
   "cell_type": "code",
   "execution_count": null,
   "metadata": {},
   "outputs": [
    {
     "name": "stdout",
     "output_type": "stream",
     "text": [
      "Positive Number\n"
     ]
    }
   ],
   "source": [
    "x = 100\n",
    "if x > 0:\n",
    "    print('Nombre positif')\n",
    "elif x < 0:\n",
    "    print('Nombre négatif')\n",
    "else:\n",
    "    print ('Zéro!')"
   ]
  },
  {
   "cell_type": "code",
   "execution_count": null,
   "metadata": {},
   "outputs": [],
   "source": [
    "# l'indentation est OBLIGATOIRE\n",
    "# les blocs sont fermés par un niveau d'indentation\n",
    "if x > 0:\n",
    "    print('Nombre positif')\n",
    "    if x >= 100:\n",
    "        print('Nombre élevé!')"
   ]
  },
  {
   "cell_type": "markdown",
   "metadata": {},
   "source": [
    "## 2- Instructions de boucle\n",
    "Nous utilisons les instructions de boucle lorsque nous voulons exécuter plusieurs fois certaines instructions de code. Voici un exemple de cas où il serait approprié d'utiliser des instructions de boucle :\n",
    "\n",
    "1. Nous avons plusieurs fichiers de données\n",
    "2. Nous utilisons une instruction de boucle pour lire les fichiers en mémoire de manière itérative.\n",
    "3. Dans les instructions de boucle, nous exécutons le même algorithme de traitement sur les données importées.\n",
    "\n",
    "En langage Python, il existe deux types principaux d'instructions de boucle : Les boucles \"while\" et les boucles \"for\"."
   ]
  },
  {
   "cell_type": "code",
   "execution_count": null,
   "metadata": {},
   "outputs": [],
   "source": [
    "# utiliser la gamme [range(5)==[0,1,2,3,4]]\n",
    "for i in range(5):\n",
    "    print(i)"
   ]
  },
  {
   "cell_type": "markdown",
   "metadata": {},
   "source": [
    "```{tip}\n",
    "Ici, nous utilisons la fonction `range()` pour créer une séquence de nombres afin de piloter la boucle for.\n",
    "\n",
    "**range(N)** crée une liste de N nombres qui commence par 0.\n",
    "**range(A,B)** crée une liste de nombres commençant par `A` et se terminant par `B-1`.\\N- **range(A,B,B) crée une liste de nombres commençant par `A` et se terminant par `B-1`.\n",
    "**range(A,B,step)** commence et se termine par les mêmes nombres que `range(A,B)`. La seule différence est que la différence entre les nombres passe de `1` à `pas`\n",
    "\n",
    "Nous pouvons également utiliser des itérateurs non numériques pour piloter des boucles for !\n",
    "```\n"
   ]
  },
  {
   "cell_type": "code",
   "execution_count": null,
   "metadata": {},
   "outputs": [],
   "source": [
    "# itérer sur une liste que nous créons, et accéder à la fois aux indices et aux éléments avec enumerate()\n",
    "for index,pet in enumerate(['dog', 'cat', 'fish']):\n",
    "    print(index, pet, len(pet))"
   ]
  },
  {
   "cell_type": "markdown",
   "metadata": {},
   "source": [
    "Comme nous pouvons le voir, la boucle `for` est appropriée si vous voulez répéter les opérations dans la boucle pour un nombre fixe de fois `N`. Mais que se passe-t-il si vous n'avez aucune idée du nombre de fois que vous souhaitez répéter un extrait de code ? Ce n'est pas un problème trivial et il se produit souvent dans les problèmes d'optimisation numérique.\n",
    "\n",
    "Pour ces problèmes, nous allons renoncer à la boucle `for` et utiliser la boucle `while` à la place. La fin d'une boucle `while` dépend de la satisfaction ou non d'une condition. En théorie, la boucle peut fonctionner indéfiniment si la condition que vous avez fixée est toujours vraie."
   ]
  },
  {
   "cell_type": "code",
   "execution_count": null,
   "metadata": {},
   "outputs": [],
   "source": [
    "# faire une boucle\n",
    "count = 0\n",
    "while count < 10:\n",
    "    # mauvaise manière\n",
    "    # count = count + 1\n",
    "    # meilleure manière\n",
    "    count += 1\n",
    "print(count)"
   ]
  },
  {
   "cell_type": "markdown",
   "metadata": {},
   "source": [
    "## 3- Instructions de contrôle de boucle\n",
    "Il arrive que l'on veuille faire dévier l'exécution d'une boucle de son comportement normal. Nous voulons peut-être quitter la boucle lorsque certaines conditions sont remplies pour gagner du temps. Nous pouvons aussi vouloir que la boucle saute du code si les données satisfont à certaines conditions.\n",
    "\n",
    "Deux instructions de contrôle sont très utiles dans ce cas : `break` et `continue`. Nous utiliserons une boucle `for` comme exemple :"
   ]
  },
  {
   "cell_type": "code",
   "execution_count": null,
   "metadata": {},
   "outputs": [],
   "source": [
    "for i in range(1, 10):\n",
    "    if i == 5:\n",
    "        print('Condition satisfaite')\n",
    "        break\n",
    "    print(i)  # Que se passerait-il si cette condition était placée avant la condition \"if\" ?"
   ]
  },
  {
   "cell_type": "code",
   "execution_count": null,
   "metadata": {},
   "outputs": [],
   "source": [
    "for i in range(1, 10):\n",
    "    if i == 5:\n",
    "        print('Condition satisfaite')\n",
    "        continue\n",
    "        print(\"Quoi qu'il en soit. De toute façon, je ne serai pas imprimé.\")\n",
    "    print(i)"
   ]
  },
  {
   "cell_type": "code",
   "execution_count": null,
   "metadata": {},
   "outputs": [],
   "source": [
    "for i in range(1, 10):\n",
    "    if i == 5:\n",
    "        print('Condition satisfaite')\n",
    "        pass\n",
    "    print(i)"
   ]
  }
 ],
 "metadata": {
  "kernelspec": {
   "display_name": "JupyterBook",
   "language": "python",
   "name": "python3"
  },
  "language_info": {
   "codemirror_mode": {
    "name": "ipython",
    "version": 3
   },
   "file_extension": ".py",
   "mimetype": "text/x-python",
   "name": "python",
   "nbconvert_exporter": "python",
   "pygments_lexer": "ipython3",
   "version": "3.12.0"
  }
 },
 "nbformat": 4,
 "nbformat_minor": 2
}
