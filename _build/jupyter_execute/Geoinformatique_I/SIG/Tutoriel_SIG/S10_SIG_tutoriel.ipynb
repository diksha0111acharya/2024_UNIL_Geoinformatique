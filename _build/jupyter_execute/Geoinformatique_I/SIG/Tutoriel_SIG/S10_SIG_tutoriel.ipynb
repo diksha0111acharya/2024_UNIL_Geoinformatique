{
 "cells": [
  {
   "cell_type": "markdown",
   "metadata": {},
   "source": [
    "## Tutoriel 10 - Visualisation & AI-assisted programming\n",
    "\n",
    "Dans cette section, nous aborderons les points suivants:\n",
    "\n",
    "- ChatGPT\n",
    "- Copilot\n",
    "- Dalle 3"
   ]
  }
 ],
 "metadata": {
  "language_info": {
   "codemirror_mode": {
    "name": "ipython",
    "version": 3
   },
   "file_extension": ".py",
   "mimetype": "text/x-python",
   "name": "python",
   "nbconvert_exporter": "python",
   "pygments_lexer": "ipython3",
   "version": "3.9.18"
  }
 },
 "nbformat": 4,
 "nbformat_minor": 2
}