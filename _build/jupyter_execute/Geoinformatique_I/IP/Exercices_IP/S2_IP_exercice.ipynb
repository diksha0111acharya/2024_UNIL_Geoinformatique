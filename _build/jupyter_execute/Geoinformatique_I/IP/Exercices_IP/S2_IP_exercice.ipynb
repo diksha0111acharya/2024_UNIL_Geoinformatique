{
 "cells": [
  {
   "cell_type": "markdown",
   "metadata": {
    "colab_type": "text",
    "id": "view-in-github"
   },
   "source": [
    "<a href=\"https://colab.research.google.com/github/tbeucler/2024_UNIL_Geoinformatique/blob/main/Geoinformatique_I/IP/Exercices_IP/S2_IP_exercice.ipynb\" target=\"_parent\"><img src=\"https://colab.research.google.com/assets/colab-badge.svg\" alt=\"Open In Colab\"/></a>"
   ]
  },
  {
   "cell_type": "markdown",
   "metadata": {
    "id": "ZXnjONpwCaJ5"
   },
   "source": [
    "# Exercice 2 - Structure de contrôle"
   ]
  },
  {
   "cell_type": "markdown",
   "metadata": {
    "id": "BFPp6p-4CaJ6"
   },
   "source": [
    "## Indentation"
   ]
  },
  {
   "cell_type": "markdown",
   "metadata": {
    "id": "OyMIBjQrCaJ6"
   },
   "source": [
    "## Conditions if, else, elif et boucle for/ while"
   ]
  },
  {
   "cell_type": "markdown",
   "metadata": {
    "id": "agjI6dl_CaJ7"
   },
   "source": [
    "## Boucle for et while"
   ]
  },
  {
   "cell_type": "markdown",
   "metadata": {},
   "source": [
    "**1. Ecrire une boucle `while` pour afficher les valeurs des classements d'une liste de lecture d'albums stockée dans la liste <code>PlayListRatings</code>. Si le score est inférieur à 6, on sort de la boucle. La liste <code>PlayListRatings</code> est donnée par : <code>PlayListRatings = [10, 9.5, 10, 8, 7.5, 5, 10, 10]</code>**"
   ]
  },
  {
   "cell_type": "code",
   "execution_count": 1,
   "metadata": {},
   "outputs": [
    {
     "ename": "NameError",
     "evalue": "name '____' is not defined",
     "output_type": "error",
     "traceback": [
      "\u001b[0;31m---------------------------------------------------------------------------\u001b[0m",
      "\u001b[0;31mNameError\u001b[0m                                 Traceback (most recent call last)",
      "Cell \u001b[0;32mIn[1], line 6\u001b[0m\n\u001b[1;32m      4\u001b[0m \u001b[38;5;66;03m# Astuce : Utilisez l'indexation de la liste comme critère (taille de votre liste)\u001b[39;00m\n\u001b[1;32m      5\u001b[0m indx \u001b[38;5;241m=\u001b[39m \u001b[38;5;241m0\u001b[39m\n\u001b[0;32m----> 6\u001b[0m \u001b[38;5;28;01mwhile\u001b[39;00m \u001b[43m____\u001b[49m\u001b[38;5;241m<\u001b[39m\u001b[38;5;28mlen\u001b[39m(______________):\n\u001b[1;32m      7\u001b[0m   \u001b[38;5;28;01mif\u001b[39;00m ____________[____]\u001b[38;5;241m<\u001b[39m\u001b[38;5;241m6\u001b[39m:\n\u001b[1;32m      8\u001b[0m     ____\n",
      "\u001b[0;31mNameError\u001b[0m: name '____' is not defined"
     ]
    }
   ],
   "source": [
    "# Ecrivez votre code ici\n",
    "PlayListRating = [10, 9.5, 10, 8, 7.5, 5, 10, 10]\n",
    "\n",
    "# Astuce : Utilisez l'indexation de la liste comme critère (taille de votre liste)\n",
    "indx = 0\n",
    "while ____<len(______________):\n",
    "  if ____________[____]<6:\n",
    "    ____\n",
    "  else:\n",
    "    print(_________[____])\n",
    "  ____+=1"
   ]
  },
  {
   "cell_type": "markdown",
   "metadata": {},
   "source": [
    "**2. Répétez ce que vous venez de faire, cette fois en utilisant une boucle `for`**."
   ]
  },
  {
   "cell_type": "code",
   "execution_count": null,
   "metadata": {},
   "outputs": [],
   "source": [
    "for ____ in range(len(______________)):\n",
    "  if _____________[____]<6:\n",
    "    ____\n",
    "  else:\n",
    "    print(_____________[____]))"
   ]
  },
  {
   "cell_type": "markdown",
   "metadata": {},
   "source": [
    "**3. Ecrivez une boucle `for` qui imprime la liste suivante : <code>carres=['rouge', 'jaune', 'vert', 'violet', 'bleu']</code>**"
   ]
  },
  {
   "cell_type": "code",
   "execution_count": null,
   "metadata": {},
   "outputs": [],
   "source": [
    "carres = [] # An empty list\n",
    "for ___,___ in enumerate([_____________________]):\n",
    "  carres.append(___) # Here you add (append) the elements one by one to the empty list\n",
    "\n",
    "print(carres)"
   ]
  }
 ],
 "metadata": {
  "colab": {
   "include_colab_link": true,
   "provenance": []
  },
  "kernelspec": {
   "display_name": "imports_TM",
   "language": "python",
   "name": "python3"
  },
  "language_info": {
   "codemirror_mode": {
    "name": "ipython",
    "version": 3
   },
   "file_extension": ".py",
   "mimetype": "text/x-python",
   "name": "python",
   "nbconvert_exporter": "python",
   "pygments_lexer": "ipython3",
   "version": "3.9.18"
  }
 },
 "nbformat": 4,
 "nbformat_minor": 0
}