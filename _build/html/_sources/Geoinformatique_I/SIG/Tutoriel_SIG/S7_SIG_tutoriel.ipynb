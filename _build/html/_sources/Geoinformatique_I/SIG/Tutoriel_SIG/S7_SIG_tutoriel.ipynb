{
 "cells": [
  {
   "cell_type": "markdown",
   "metadata": {},
   "source": [
    "## Tutoriel 7 - Introduction SIG & Projection\n",
    "\n",
    "Dans cette section, nous aborderons les points suivants:\n",
    "\n",
    "- Modèle vecteur vs modèle raster\n",
    "- Système géodésique (datum)\n",
    "- Principe de projection\n",
    "- Modéisation Numérique de terrain (MNT)\n",
    "- Opérateur topologique\n",
    "- Cartopy"
   ]
  }
 ],
 "metadata": {
  "language_info": {
   "name": "python"
  }
 },
 "nbformat": 4,
 "nbformat_minor": 2
}
