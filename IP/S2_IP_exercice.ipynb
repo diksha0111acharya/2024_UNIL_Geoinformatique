{
  "cells": [
    {
      "cell_type": "markdown",
      "metadata": {
        "id": "view-in-github",
        "colab_type": "text"
      },
      "source": [
        "<a href=\"https://colab.research.google.com/github/tbeucler/2024_UNIL_Geoinformatique/blob/main/IP/S2_IP_exercice.ipynb\" target=\"_parent\"><img src=\"https://colab.research.google.com/assets/colab-badge.svg\" alt=\"Open In Colab\"/></a>"
      ]
    },
    {
      "cell_type": "markdown",
      "metadata": {
        "id": "3WlaPpy06nlU"
      },
      "source": [
        "<a href=\"https://colab.research.google.com/github/tbeucler/2023_MLEES_JB/blob/main/ML_EES/IP/W1_S1_Tutorial.ipynb\" target=\"_parent\"><img src=\"https://colab.research.google.com/assets/colab-badge.svg\" alt=\"Open In Colab\"/></a>"
      ]
    },
    {
      "cell_type": "markdown",
      "metadata": {
        "id": "n3vEuZwm6nlZ"
      },
      "source": [
        "## **Exercice 2 - Structure de contrôle**"
      ]
    },
    {
      "cell_type": "markdown",
      "metadata": {
        "id": "tMmvADZO6nla"
      },
      "source": [
        "### **2.1 - Indentation**"
      ]
    },
    {
      "cell_type": "markdown",
      "metadata": {
        "id": "XzuAvYRF6nla"
      },
      "source": [
        "### **2.2 - Conditions if, else, elif**"
      ]
    },
    {
      "cell_type": "markdown",
      "metadata": {
        "id": "X5EiHzKC6nlb"
      },
      "source": [
        "### **2.3 - Boucle for et while**"
      ]
    }
  ],
  "metadata": {
    "language_info": {
      "name": "python"
    },
    "colab": {
      "provenance": [],
      "include_colab_link": true
    }
  },
  "nbformat": 4,
  "nbformat_minor": 0
}