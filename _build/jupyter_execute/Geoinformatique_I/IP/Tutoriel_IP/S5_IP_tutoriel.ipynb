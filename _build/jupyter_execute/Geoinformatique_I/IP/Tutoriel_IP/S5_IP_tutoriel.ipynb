{
 "cells": [
  {
   "cell_type": "markdown",
   "metadata": {},
   "source": [
    "<a href=\"https://colab.research.google.com/github/tbeucler/2024_UNIL_Geoinformatique/blob/main/Geoinformatique_I/IP/Tutoriel_IP/S5_IP_tutoriel.ipynb\" target=\"_parent\"><img src=\"https://colab.research.google.com/assets/colab-badge.svg\" alt=\"Open In Colab\"/></a>"
   ]
  },
  {
   "cell_type": "markdown",
   "metadata": {},
   "source": [
    "# Tutoriel 5: Bonnes pratiques de programmation\n",
    "\n",
    "Dans cette section, nous aborderons les points suivants:\n",
    "\n",
    "1. Classe\n",
    "2. Contrôle des versions\n",
    "3. Assertion\n",
    "4. Exception\n",
    "5. Débogage\n",
    "6. Testing\n",
    "\n"
   ]
  },
  {
   "cell_type": "markdown",
   "metadata": {},
   "source": [
    "## Classes"
   ]
  },
  {
   "cell_type": "markdown",
   "metadata": {},
   "source": [
    "Jusqu'à présent, nous avons travaillé avec de nombreux types d'objets python :\n",
    "chaînes de caractères, listes, dictionnaires, etc.\n",
    "Ces objets ont différents attributs et répondent de différentes manières aux fonctions\n",
    "aux fonctions intégrées (`len`, etc.).\n",
    "\n",
    "Comment pouvons-nous créer nos propres objets personnalisés ? Réponse : en définissant des classes."
   ]
  },
  {
   "cell_type": "markdown",
   "metadata": {},
   "source": [
    "### Une classe pour représenter un ouragan\n",
    "Créons notre première classe ci-dessous,"
   ]
  },
  {
   "cell_type": "code",
   "execution_count": 1,
   "metadata": {},
   "outputs": [],
   "source": [
    "class Hurricane:\n",
    "\n",
    "    def __init__(self, name):\n",
    "        self.name = name"
   ]
  },
  {
   "cell_type": "markdown",
   "metadata": {},
   "source": [
    "Et maintenant, créons une *instance* de cette classe, `h` :"
   ]
  },
  {
   "cell_type": "code",
   "execution_count": 2,
   "metadata": {},
   "outputs": [
    {
     "name": "stdout",
     "output_type": "stream",
     "text": [
      "<__main__.Hurricane object at 0x7fb97b9fdf40> florence\n"
     ]
    }
   ],
   "source": [
    "h = Hurricane('florence')\n",
    "print(h,h.name)"
   ]
  },
  {
   "cell_type": "markdown",
   "metadata": {},
   "source": [
    "Ajoutons-en d'autres, ainsi qu'une validation des entrées :"
   ]
  },
  {
   "cell_type": "code",
   "execution_count": 3,
   "metadata": {},
   "outputs": [],
   "source": [
    "class Hurricane:\n",
    "\n",
    "    def __init__(self, name, category, lon):\n",
    "        self.name = name.upper()\n",
    "        self.category = int(category)\n",
    "\n",
    "        if lon > 180 or lon < -180:\n",
    "            raise ValueError(f'Invalid lon {lon}')\n",
    "        self.lon = lon"
   ]
  },
  {
   "cell_type": "code",
   "execution_count": 4,
   "metadata": {},
   "outputs": [
    {
     "name": "stdout",
     "output_type": "stream",
     "text": [
      "<__main__.Hurricane object at 0x7fb97bac7cd0> FLORENCE\n"
     ]
    },
    {
     "ename": "ValueError",
     "evalue": "Invalid lon 300",
     "output_type": "error",
     "traceback": [
      "\u001b[0;31m---------------------------------------------------------------------------\u001b[0m",
      "\u001b[0;31mValueError\u001b[0m                                Traceback (most recent call last)",
      "Cell \u001b[0;32mIn[4], line 3\u001b[0m\n\u001b[1;32m      1\u001b[0m h \u001b[38;5;241m=\u001b[39m Hurricane(\u001b[38;5;124m'\u001b[39m\u001b[38;5;124mflorence\u001b[39m\u001b[38;5;124m'\u001b[39m, \u001b[38;5;241m4\u001b[39m, \u001b[38;5;241m-\u001b[39m\u001b[38;5;241m46\u001b[39m)\n\u001b[1;32m      2\u001b[0m \u001b[38;5;28mprint\u001b[39m(h,h\u001b[38;5;241m.\u001b[39mname)\n\u001b[0;32m----> 3\u001b[0m h \u001b[38;5;241m=\u001b[39m \u001b[43mHurricane\u001b[49m\u001b[43m(\u001b[49m\u001b[38;5;124;43m'\u001b[39;49m\u001b[38;5;124;43mIda\u001b[39;49m\u001b[38;5;124;43m'\u001b[39;49m\u001b[43m,\u001b[49m\u001b[43m \u001b[49m\u001b[38;5;241;43m5\u001b[39;49m\u001b[43m,\u001b[49m\u001b[43m \u001b[49m\u001b[38;5;241;43m300\u001b[39;49m\u001b[43m)\u001b[49m\n",
      "Cell \u001b[0;32mIn[3], line 8\u001b[0m, in \u001b[0;36mHurricane.__init__\u001b[0;34m(self, name, category, lon)\u001b[0m\n\u001b[1;32m      5\u001b[0m \u001b[38;5;28mself\u001b[39m\u001b[38;5;241m.\u001b[39mcategory \u001b[38;5;241m=\u001b[39m \u001b[38;5;28mint\u001b[39m(category)\n\u001b[1;32m      7\u001b[0m \u001b[38;5;28;01mif\u001b[39;00m lon \u001b[38;5;241m>\u001b[39m \u001b[38;5;241m180\u001b[39m \u001b[38;5;129;01mor\u001b[39;00m lon \u001b[38;5;241m<\u001b[39m \u001b[38;5;241m-\u001b[39m\u001b[38;5;241m180\u001b[39m:\n\u001b[0;32m----> 8\u001b[0m     \u001b[38;5;28;01mraise\u001b[39;00m \u001b[38;5;167;01mValueError\u001b[39;00m(\u001b[38;5;124mf\u001b[39m\u001b[38;5;124m'\u001b[39m\u001b[38;5;124mInvalid lon \u001b[39m\u001b[38;5;132;01m{\u001b[39;00mlon\u001b[38;5;132;01m}\u001b[39;00m\u001b[38;5;124m'\u001b[39m)\n\u001b[1;32m      9\u001b[0m \u001b[38;5;28mself\u001b[39m\u001b[38;5;241m.\u001b[39mlon \u001b[38;5;241m=\u001b[39m lon\n",
      "\u001b[0;31mValueError\u001b[0m: Invalid lon 300"
     ]
    }
   ],
   "source": [
    "h = Hurricane('florence', 4, -46)\n",
    "print(h,h.name)\n",
    "h = Hurricane('Ida', 5, 300)"
   ]
  },
  {
   "cell_type": "code",
   "execution_count": null,
   "metadata": {},
   "outputs": [],
   "source": [
    "# Ajoutons maintenant une méthode personnalisée :class Hurricane:\n",
    "class Hurricane:\n",
    "\n",
    "    def __init__(self, name, category, lon):\n",
    "        self.name = name.upper()\n",
    "        self.category = int(category)\n",
    "\n",
    "        if lon > 180 or lon < -180:\n",
    "            raise ValueError(f'Invalid lon {lon}')\n",
    "        self.lon = lon\n",
    "\n",
    "    def is_dangerous(self):\n",
    "        return self.category > 1"
   ]
  },
  {
   "cell_type": "code",
   "execution_count": null,
   "metadata": {},
   "outputs": [],
   "source": [
    "f = Hurricane('florence', 4, -46)\n",
    "f.is_dangerous()"
   ]
  },
  {
   "cell_type": "markdown",
   "metadata": {},
   "source": [
    "### Méthodes magiques / Dunder\n",
    "Nous pouvons implémenter des méthodes spéciales qui commencent par des doubles points (c'est-à-dire des méthodes \"dunder\"), qui nous permettent de personnaliser le comportement de nos classes. ([En savoir plus ici](https://www.python-course.eu/python3_magic_methods.php)). Nous en avons déjà appris une : `__init__`. Implémentons la méthode `__repr__` pour que notre classe affiche quelque chose de joli."
   ]
  },
  {
   "cell_type": "code",
   "execution_count": null,
   "metadata": {},
   "outputs": [],
   "source": [
    "class Hurricane:\n",
    "\n",
    "    def __init__(self, name, category, lon):\n",
    "        self.name = name.upper()\n",
    "        self.category = int(category)\n",
    "\n",
    "        if lon > 180 or lon < -180:\n",
    "            raise ValueError(f'Invalid lon {lon}')\n",
    "        self.lon = lon\n",
    "\n",
    "    def __repr__(self):\n",
    "        return f\"<Hurricane {self.name} (cat {self.category})>\"\n",
    "\n",
    "    def is_dangerous(self):\n",
    "        return self.category > 1"
   ]
  },
  {
   "cell_type": "code",
   "execution_count": null,
   "metadata": {},
   "outputs": [],
   "source": [
    "f = Hurricane('florence', 4, -46)\n",
    "f"
   ]
  },
  {
   "cell_type": "markdown",
   "metadata": {},
   "source": [
    "## Contrôle des versions"
   ]
  },
  {
   "cell_type": "markdown",
   "metadata": {},
   "source": [
    "## Assertion"
   ]
  },
  {
   "cell_type": "markdown",
   "metadata": {},
   "source": [
    "## Exception"
   ]
  },
  {
   "cell_type": "markdown",
   "metadata": {},
   "source": [
    "## Débogage"
   ]
  },
  {
   "cell_type": "markdown",
   "metadata": {},
   "source": [
    "## Unit Testing"
   ]
  }
 ],
 "metadata": {
  "kernelspec": {
   "display_name": "JupyterBook",
   "language": "python",
   "name": "python3"
  },
  "language_info": {
   "codemirror_mode": {
    "name": "ipython",
    "version": 3
   },
   "file_extension": ".py",
   "mimetype": "text/x-python",
   "name": "python",
   "nbconvert_exporter": "python",
   "pygments_lexer": "ipython3",
   "version": "3.9.18"
  }
 },
 "nbformat": 4,
 "nbformat_minor": 2
}