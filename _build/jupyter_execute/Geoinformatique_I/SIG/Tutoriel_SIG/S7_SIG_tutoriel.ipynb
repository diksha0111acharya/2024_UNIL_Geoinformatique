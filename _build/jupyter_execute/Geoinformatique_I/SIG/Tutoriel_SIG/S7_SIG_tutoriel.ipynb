{
 "cells": [
  {
   "cell_type": "markdown",
   "metadata": {},
   "source": [
    "## Tutoriel 7 - Introduction SIG & Projection\n",
    "\n",
    "Dans cette section, nous aborderons les points suivants:\n",
    "\n",
    "- Modèle vecteur vs modèle raster\n",
    "- Système géodésique (datum)\n",
    "- Principe de projection\n",
    "- Modéisation Numérique de terrain (MNT)\n",
    "- Opérateur topologique\n",
    "- Cartopy"
   ]
  }
 ],
 "metadata": {
  "language_info": {
   "codemirror_mode": {
    "name": "ipython",
    "version": 3
   },
   "file_extension": ".py",
   "mimetype": "text/x-python",
   "name": "python",
   "nbconvert_exporter": "python",
   "pygments_lexer": "ipython3",
   "version": "3.9.18"
  }
 },
 "nbformat": 4,
 "nbformat_minor": 2
}