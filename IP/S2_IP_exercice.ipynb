{
<<<<<<< HEAD
 "cells": [
  {
   "cell_type": "markdown",
   "metadata": {},
   "source": [
<<<<<<< Updated upstream
    "<a href=\"https://colab.research.google.com/github/tbeucler/2024_UNIL_Geoinformatique/blob/main/IP/S2_IP_exercice.ipynb\" target=\"_parent\"><img src=\"https://colab.research.google.com/assets/colab-badge.svg\" alt=\"Open In Colab\"/></a>"
=======
    "## Exercice 2 - Structure de contrôle"
>>>>>>> Stashed changes
   ]
=======
  "cells": [
    {
      "cell_type": "markdown",
      "metadata": {
        "id": "view-in-github",
        "colab_type": "text"
      },
      "source": [
        "<a href=\"https://colab.research.google.com/github/tbeucler/2024_UNIL_Geoinformatique/blob/main/IP/S2_IP_exercice.ipynb\" target=\"_parent\"><img src=\"https://colab.research.google.com/assets/colab-badge.svg\" alt=\"Open In Colab\"/></a>"
      ]
    },
    {
      "cell_type": "markdown",
      "metadata": {
        "id": "n3vEuZwm6nlZ"
      },
      "source": [
        "## **Exercice 2 - Structure de contrôle**"
      ]
    },
    {
      "cell_type": "markdown",
      "metadata": {
        "id": "tMmvADZO6nla"
      },
      "source": [
        "### **2.1 - Indentation**"
      ]
    },
    {
      "cell_type": "markdown",
      "metadata": {
        "id": "XzuAvYRF6nla"
      },
      "source": [
        "### **2.2 - Conditions if, else, elif**"
      ]
    },
    {
      "cell_type": "markdown",
      "metadata": {
        "id": "X5EiHzKC6nlb"
      },
      "source": [
        "### **2.3 - Boucle for et while**"
      ]
    }
  ],
  "metadata": {
    "language_info": {
      "name": "python"
    },
    "colab": {
      "provenance": [],
      "include_colab_link": true
    }
>>>>>>> c517a9588778871bbff72f09728bdebb224f5510
  },
  {
   "cell_type": "markdown",
   "metadata": {},
   "source": [
<<<<<<< Updated upstream
    "## Exercice 2 - Structure de contrôle"
=======
    "### Indentation"
>>>>>>> Stashed changes
   ]
  },
  {
   "cell_type": "markdown",
   "metadata": {},
   "source": [
<<<<<<< Updated upstream
    "### Indentation"
=======
    "### Conditions if, else, elif"
>>>>>>> Stashed changes
   ]
  },
  {
   "cell_type": "markdown",
   "metadata": {},
   "source": [
<<<<<<< Updated upstream
    "### Conditions if, else, elif"
   ]
  },
  {
   "cell_type": "markdown",
   "metadata": {},
   "source": [
=======
>>>>>>> Stashed changes
    "### Boucle for et while"
   ]
  }
 ],
 "metadata": {
  "language_info": {
   "name": "python"
  }
 },
 "nbformat": 4,
 "nbformat_minor": 2
}
