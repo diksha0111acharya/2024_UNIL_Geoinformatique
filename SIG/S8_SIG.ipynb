{
 "cells": [
  {
   "cell_type": "markdown",
   "metadata": {},
   "source": [
    "# Projections et systèmes de coordonnées, manipulation des géométries"
   ]
  },
  {
   "cell_type": "markdown",
   "metadata": {},
   "source": [
    "Comprendre les systèmes de coordonnées, projeter des données, transformations simples de géométries\n",
    "\n",
    "- Introduction aux systèmes de coordonnées géographiques et projetés\n",
    "- Principes des projections\n",
    "- Projeter des données avec QGIS et Python (avec PyQGIS et pyproj)\n",
    "- Manipuler les géométries avec Shapely"
   ]
  }
 ],
 "metadata": {
  "language_info": {
   "name": "python"
  }
 },
 "nbformat": 4,
 "nbformat_minor": 2
}
