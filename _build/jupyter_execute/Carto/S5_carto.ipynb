{
 "cells": [
  {
   "cell_type": "markdown",
   "metadata": {},
   "source": [
    "# Habillage des cartes"
   ]
  },
  {
   "cell_type": "markdown",
   "metadata": {},
   "source": [
    "- La couleur en cartographie (modèle RGB, CMYK), palettes de couleurs\n",
    "- Principes de création d'une légende\n",
    "- Éléments d'une carte: titre, sources, échelle, maillage, etc.\n",
    "- Gestion des toponymes\n",
    "- Cartons de localisation, zoom\n",
    "- Graticules, notes techniques, commentaires\n",
    "- Mise en page des éléments d'une carte"
   ]
  }
 ],
 "metadata": {
  "language_info": {
   "codemirror_mode": {
    "name": "ipython",
    "version": 3
   },
   "file_extension": ".py",
   "mimetype": "text/x-python",
   "name": "python",
   "nbconvert_exporter": "python",
   "pygments_lexer": "ipython3",
   "version": "3.9.18"
  }
 },
 "nbformat": 4,
 "nbformat_minor": 2
}