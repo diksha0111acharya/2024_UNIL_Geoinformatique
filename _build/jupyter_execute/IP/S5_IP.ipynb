{
 "cells": [
  {
   "cell_type": "markdown",
   "metadata": {},
   "source": [
    "# Gestion des fichiers, exceptions et tests"
   ]
  },
  {
   "cell_type": "markdown",
   "metadata": {},
   "source": [
    "Gérer les entrées et sorties de fichiers, comprendre comment gérer les erreurs, vérification du code\n",
    "\n",
    "- Lecture et écriture de fichiers\n",
    "- Introduction aux exceptions, gestion avec `try`, `except`, `else` et `finally`\n",
    "- Vérificatino du code à l'aide de tests automatisés\n"
   ]
  }
 ],
 "metadata": {
  "language_info": {
   "codemirror_mode": {
    "name": "ipython",
    "version": 3
   },
   "file_extension": ".py",
   "mimetype": "text/x-python",
   "name": "python",
   "nbconvert_exporter": "python",
   "pygments_lexer": "ipython3",
   "version": "3.9.18"
  }
 },
 "nbformat": 4,
 "nbformat_minor": 2
}