{
 "cells": [
  {
   "cell_type": "markdown",
   "metadata": {},
   "source": [
    "<a href=\"https://colab.research.google.com/github/tbeucler/2024_UNIL_Geoinformatique/blob/main/Geoinformatique_I/IP/Tutoriel_IP/S5_IP_tutoriel.ipynb\" target=\"_parent\"><img src=\"https://colab.research.google.com/assets/colab-badge.svg\" alt=\"Open In Colab\"/></a>"
   ]
  },
  {
   "cell_type": "markdown",
   "metadata": {},
   "source": [
    "# Tutoriel 5: Bonnes pratiques de programmation\n",
    "\n",
    "Dans cette section, nous aborderons les points suivants:\n",
    "\n",
    "1. Classe\n",
    "2. Contrôle des versions\n",
    "3. Assertion\n",
    "4. Exception\n",
    "5. Débogage\n",
    "6. Unit testing\n",
    "\n"
   ]
  },
  {
   "cell_type": "markdown",
   "metadata": {},
   "source": [
    "## Classes"
   ]
  },
  {
   "cell_type": "markdown",
   "metadata": {},
   "source": [
    "Jusqu'à présent, nous avons travaillé avec de nombreux types d'objets python :\n",
    "chaînes de caractères, listes, dictionnaires, etc.\n",
    "Ces objets ont différents attributs et répondent de différentes manières aux fonctions\n",
    "aux fonctions intégrées (`len`, etc.).\n",
    "\n",
    "Comment pouvons-nous créer nos propres objets personnalisés ? Réponse : en définissant des classes."
   ]
  },
  {
   "cell_type": "markdown",
   "metadata": {},
   "source": [
    "### Une classe pour représenter un ouragan\n",
    "Créons notre première classe ci-dessous,"
   ]
  },
  {
   "cell_type": "code",
   "execution_count": null,
   "metadata": {},
   "outputs": [],
   "source": [
    "class Hurricane:\n",
    "\n",
    "    def __init__(self, name):\n",
    "        self.name = name"
   ]
  },
  {
   "cell_type": "markdown",
   "metadata": {},
   "source": [
    "Et maintenant, créons une *instance* de cette classe, `h` :"
   ]
  },
  {
   "cell_type": "code",
   "execution_count": null,
   "metadata": {},
   "outputs": [],
   "source": [
    "h = Hurricane('florence')\n",
    "print(h,h.name)"
   ]
  },
  {
   "cell_type": "markdown",
   "metadata": {},
   "source": [
    "Ajoutons-en d'autres, ainsi qu'une validation des entrées :"
   ]
  },
  {
   "cell_type": "code",
   "execution_count": null,
   "metadata": {},
   "outputs": [],
   "source": [
    "class Hurricane:\n",
    "\n",
    "    def __init__(self, name, category, lon):\n",
    "        self.name = name.upper()\n",
    "        self.category = int(category)\n",
    "\n",
    "        if lon > 180 or lon < -180:\n",
    "            raise ValueError(f'Invalid lon {lon}')\n",
    "        self.lon = lon"
   ]
  },
  {
   "cell_type": "code",
   "execution_count": null,
   "metadata": {},
   "outputs": [],
   "source": [
    "h = Hurricane('florence', 4, -46)\n",
    "print(h,h.name)\n",
    "h = Hurricane('Ida', 5, 300)"
   ]
  },
  {
   "cell_type": "code",
   "execution_count": null,
   "metadata": {},
   "outputs": [],
   "source": [
    "# Ajoutons maintenant une méthode personnalisée :class Hurricane:\n",
    "class Hurricane:\n",
    "\n",
    "    def __init__(self, name, category, lon):\n",
    "        self.name = name.upper()\n",
    "        self.category = int(category)\n",
    "\n",
    "        if lon > 180 or lon < -180:\n",
    "            raise ValueError(f'Invalid lon {lon}')\n",
    "        self.lon = lon\n",
    "\n",
    "    def is_dangerous(self):\n",
    "        return self.category > 1"
   ]
  },
  {
   "cell_type": "code",
   "execution_count": null,
   "metadata": {},
   "outputs": [],
   "source": [
    "f = Hurricane('florence', 4, -46)\n",
    "f.is_dangerous()"
   ]
  },
  {
   "cell_type": "markdown",
   "metadata": {},
   "source": [
    "### Méthodes magiques / Dunder\n",
    "Nous pouvons implémenter des méthodes spéciales qui commencent par des doubles points (c'est-à-dire des méthodes \"dunder\"), qui nous permettent de personnaliser le comportement de nos classes. ([En savoir plus ici](https://www.python-course.eu/python3_magic_methods.php)). Nous en avons déjà appris une : `__init__`. Implémentons la méthode `__repr__` pour que notre classe affiche quelque chose de joli."
   ]
  },
  {
   "cell_type": "code",
   "execution_count": null,
   "metadata": {},
   "outputs": [],
   "source": [
    "class Hurricane:\n",
    "\n",
    "    def __init__(self, name, category, lon):\n",
    "        self.name = name.upper()\n",
    "        self.category = int(category)\n",
    "\n",
    "        if lon > 180 or lon < -180:\n",
    "            raise ValueError(f'Invalid lon {lon}')\n",
    "        self.lon = lon\n",
    "\n",
    "    def __repr__(self):\n",
    "        return f\"<Hurricane {self.name} (cat {self.category})>\"\n",
    "\n",
    "    def is_dangerous(self):\n",
    "        return self.category > 1"
   ]
  },
  {
   "cell_type": "code",
   "execution_count": null,
   "metadata": {},
   "outputs": [],
   "source": [
    "f = Hurricane('florence', 4, -46)\n",
    "f"
   ]
  },
  {
   "cell_type": "markdown",
   "metadata": {},
   "source": [
    "## Contrôle des versions"
   ]
  },
  {
   "cell_type": "markdown",
   "metadata": {},
   "source": [
    "## Assertion"
   ]
  },
  {
   "cell_type": "markdown",
   "metadata": {},
   "source": [
    "## Exception"
   ]
  },
  {
   "cell_type": "markdown",
   "metadata": {},
   "source": [
    "## Débogage"
   ]
  },
  {
   "cell_type": "markdown",
   "metadata": {},
   "source": [
    "## Unit Testing"
   ]
  }
 ],
 "metadata": {
  "kernelspec": {
   "display_name": "JupyterBook",
   "language": "python",
   "name": "python3"
  },
  "language_info": {
   "name": "python",
   "version": "3.12.0"
  }
 },
 "nbformat": 4,
 "nbformat_minor": 2
}
