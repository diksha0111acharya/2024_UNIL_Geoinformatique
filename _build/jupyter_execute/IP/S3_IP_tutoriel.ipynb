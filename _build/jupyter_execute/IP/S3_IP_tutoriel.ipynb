{
 "cells": [
  {
   "cell_type": "markdown",
   "metadata": {},
   "source": [
    "<a href=\"https://colab.research.google.com/github/tbeucler/2023_MLEES_JB/blob/main/ML_EES/IP/W1_S1_Tutorial.ipynb\" target=\"_parent\"><img src=\"https://colab.research.google.com/assets/colab-badge.svg\" alt=\"Open In Colab\"/></a>"
   ]
  },
  {
   "cell_type": "markdown",
   "metadata": {},
   "source": [
    "## **Tutoriel 3: Structure de données**\n",
    "\n",
    "Dans cette section, nous aborderons les points suivants:\n",
    "\n",
    "1. File I/O\n",
    "2. List\n",
    "3. Tuples\n",
    "4. Sets\n",
    "5. Dictionnaires\n"
   ]
  },
  {
   "cell_type": "markdown",
   "metadata": {},
   "source": [
    "## 1- File I/O\n",
    "Dans cette section, nous présenterons les fonctions de base que nous pouvons utiliser pour stocker et récupérer des données à partir de fichiers de différents formats.\n",
    "\n",
    "Pour les projets en sciences de l'environnement, les données de recherche sont le plus souvent stockées dans les formats suivants :\n",
    "1.   Fichiers texte (`TXT`)\n",
    "2.   Fichiers tabulaires (par exemple, `CSV`, `XLS`)\n",
    "3.   Données structurées / dictionnaires Python, etc. (par exemple, `Pickle`, `dill`, `JSON`)\n",
    "4.   Données maillées (par exemple, `HDF5`, `NetCDF`)\n",
    "\n",
    "Nous allons maintenant voir comment nous pouvons utiliser Python et différents paquets Python pour récupérer les données stockées dans ces formats, et comment sauvegarder vos données dans différents formats pour une utilisation ultérieure.\n",
    "\n",
    "Référence:\n",
    "*   CUSP UCSL bootcamp 2017 (https://github.com/Mohitsharma44/ucsl17)\n",
    "*   Python 3 tutorial (https://docs.python.org/3/tutorial/inputoutput.html)\n",
    "*   GSFC Python Bootcamp (https://github.com/astg606/py_materials/blob/master/useful_modules/)\n",
    "*   Working on JSON Data in Python (https://realpython.com/python-json/)\n",
    "*   PyHOGS (http://pyhogs.github.io/intro_netcdf4.html)"
   ]
  },
  {
   "cell_type": "markdown",
   "metadata": {},
   "source": [
    "Commençons par importer quelques paquets..."
   ]
  },
  {
   "cell_type": "code",
   "execution_count": 1,
   "metadata": {},
   "outputs": [
    {
     "ename": "ModuleNotFoundError",
     "evalue": "No module named 'netCDF4'",
     "output_type": "error",
     "traceback": [
      "\u001b[0;31m---------------------------------------------------------------------------\u001b[0m",
      "\u001b[0;31mModuleNotFoundError\u001b[0m                       Traceback (most recent call last)",
      "Cell \u001b[0;32mIn[1], line 2\u001b[0m\n\u001b[1;32m      1\u001b[0m \u001b[38;5;28;01mimport\u001b[39;00m \u001b[38;5;21;01mcsv\u001b[39;00m\n\u001b[0;32m----> 2\u001b[0m \u001b[38;5;28;01mimport\u001b[39;00m \u001b[38;5;21;01mnetCDF4\u001b[39;00m\n\u001b[1;32m      3\u001b[0m \u001b[38;5;28;01mimport\u001b[39;00m \u001b[38;5;21;01mpickle\u001b[39;00m\n\u001b[1;32m      4\u001b[0m \u001b[38;5;28;01mimport\u001b[39;00m \u001b[38;5;21;01mpandas\u001b[39;00m \u001b[38;5;28;01mas\u001b[39;00m \u001b[38;5;21;01mpd\u001b[39;00m\n",
      "\u001b[0;31mModuleNotFoundError\u001b[0m: No module named 'netCDF4'"
     ]
    }
   ],
   "source": [
    "import csv\n",
    "import netCDF4\n",
    "import pickle\n",
    "import pandas as pd\n",
    "import xarray as xr\n",
    "import numpy as np"
   ]
  },
  {
   "cell_type": "markdown",
   "metadata": {},
   "source": [
    "### Fichiers TXT\n",
    "Nous allons maintenant apprendre à écrire des informations dans un fichier .TXT et à les relire à l'aide de fonctions Python intégrées. Les données utilisées dans cette partie du tutoriel seront très simples. Dans les prochains exercices, nous présenterons également les commandes des paquets communautaires qui nous permettent de lire et de stocker des données plus complexes.\n",
    "\n",
    "#### Ouverture de fichiers :\n",
    "Les fichiers peuvent être ouverts en utilisant la fonction intégrée de Python `open()`. Cette fonction crée un objet fichier pour les opérations suivantes. Utilisez la syntaxe suivante pour lire un fichier TXT : \\\\\n",
    "`fhandler = open(file_name, access mode, encoding)`\n",
    "\n",
    "- `nom_du_fichier` : Le nom du fichier sur lequel vous souhaitez effectuer vos opérations d'E/S. \\\n",
    "Notez qu'il s'agit du chemin d'accès complet au fichier (par exemple, $\\text{\\\\home\\\\Documents\\\\file.txt}$ )\n",
    "- `encodage` : Schéma d'encodage à utiliser pour convertir le flux d'octets en texte. (Standard=`utf-8`)\n",
    "- `access_mode` : La façon dont un fichier est ouvert, les choix disponibles pour cette option incluent :\n",
    "\n",
    "|access_mode | Its Function|\n",
    "|:------|------------:|\n",
    "|r\t|Ouvre un fichier en lecture seule|\n",
    "|rb\t|Ouvre un fichier en lecture seule au format binaire|\n",
    "|r+\t|Ouvre un fichier pour la lecture et l'écriture|\n",
    "|rb+\t|Ouvre un fichier pour la lecture et l'écriture au format binaire|\n",
    "|w\t|Ouvre un fichier en écriture uniquement|\n",
    "|wb\t|Ouvre un fichier en écriture uniquement au format binaire|\n",
    "|w+\t|Ouvre un fichier en lecture et en écriture|\n",
    "|wb+\t|Ouvre un fichier pour l'écriture et la lecture au format binaire|\n",
    "|a\t|Ouvre un fichier pour l'ajouter|\n",
    "|ab\t|Ouvre un fichier pour l'ajouter en binaire|\n",
    "|a+\t|Ouvre un fichier pour l'ajout et la lecture|\n",
    "|ab+\t|Ouvre un fichier pour l'ajout et la lecture au format binaire|\n",
    "\n",
    "Dans l'exemple ci-dessous, nous allons essayer de stocker plusieurs phrases dans un nouveau fichier TXT, et utiliser la fonction `open()` pour voir si le code fonctionne comme prévu."
   ]
  },
  {
   "cell_type": "code",
   "execution_count": null,
   "metadata": {},
   "outputs": [],
   "source": [
    "fhandler = open('test.txt', 'w', encoding=\"utf-8\")\n",
    "fhandler.write('Hello World!\\n')\n",
    "fhandler.write('I am a UNIL Master Student.\\n')\n",
    "fhandler.write('I am learning how to code!\\n')\n",
    "fhandler.close()"
   ]
  },
  {
   "cell_type": "markdown",
   "metadata": {},
   "source": [
    "```{note}\n",
    "In the code above, we use the `open()` command to create a *write-only* (`access_mode='w'`) file `test.txt`. The open command creates a file object (`fhandler`) on which we can perform extra operations.\n",
    "\n",
    "We then try to add three sentences to the TXT file using the `.write()` operation on the file object.\n",
    "\n",
    "Remember to close the file with `.close()` command so that the changes can be finalized!\n",
    "\n",
    "If the code is writing, we should see a `test.txt` file created in the same path as this notebook. Let's see if that's the case!\n",
    "```"
   ]
  },
  {
   "cell_type": "code",
   "execution_count": null,
   "metadata": {},
   "outputs": [],
   "source": [
    "! ls ."
   ]
  },
  {
   "cell_type": "code",
   "execution_count": null,
   "metadata": {},
   "outputs": [],
   "source": [
    "! cat test.txt"
   ]
  },
  {
   "cell_type": "markdown",
   "metadata": {},
   "source": [
    "Hourra ! Ça marche ! 😀\n",
    "\n",
    "Mais n'avons-nous pas dit que nous voulions le relire ? 🤨\n",
    "\n",
    "Essayons de lire le fichier alors ! Pouvez-vous penser à des façons de le faire ?\n",
    "\n",
    "Voici quelques-unes des fonctions que vous pourriez utiliser.\n",
    "\n",
    "1.   `.close()` : Ferme le fichier actuellement ouvert.\n",
    "2.   `.readline([size])` : Lit les chaînes de caractères d'un fichier jusqu'à ce qu'il atteigne le caractère de nouvelle ligne `\\n` si le paramètre `size` est vide. Sinon, il lira la chaîne de caractères de la taille donnée.\n",
    "3.   `.readlines([size])` : Appelle répétitivement `.readline()` jusqu'à la fin du fichier.\n",
    "4.   `.write(str)` : Écrit la chaîne de caractères str dans le fichier.\n",
    "5.   `.writelines([list])` : Ecrit une séquence de chaînes de caractères dans un fichier. Aucune nouvelle ligne n'est ajoutée automatiquement."
   ]
  },
  {
   "cell_type": "code",
   "execution_count": null,
   "metadata": {},
   "outputs": [],
   "source": [
    "fhandler = open('test.txt','r',encoding='utf-8')\n",
    "fhandler.readlines()"
   ]
  },
  {
   "cell_type": "markdown",
   "metadata": {},
   "source": [
    "Et si nous voulions ajouter du texte au fichier ?"
   ]
  },
  {
   "cell_type": "code",
   "execution_count": null,
   "metadata": {},
   "outputs": [],
   "source": [
    "with open('test.txt', 'r+') as fhandler:\n",
    "  print(fhandler.readlines())\n",
    "  fhandler.writelines(['Now,\\n', 'I am trying to', ' add some stuff.'])\n",
    "  # Go to the starting of file\n",
    "  fhandler.seek(0)\n",
    "  # Print the content of file\n",
    "  print(fhandler.readlines())"
   ]
  },
  {
   "cell_type": "markdown",
   "metadata": {},
   "source": [
    "Ici, nous utilisons une autre méthode pour ouvrir et écrire le fichier de données.\n",
    "En utilisant l'instruction `with` pour ouvrir le fichier TXT, nous nous assurons que les données sont automatiquement fermées après l'opération finale. Nous n'avons plus besoin d'écrire l'instruction `fhandler.close()`."
   ]
  },
  {
   "cell_type": "markdown",
   "metadata": {},
   "source": [
    "### Fichiers tabulaires\n",
    "Que feriez-vous si vous aviez des données joliment organisées dans le format ci-dessous ?\n",
    "```\n",
    "Données1, Données2, Données3\n",
    "Exemple01, Exemple02, Exemple03\n",
    "Exemple11, Exemple12, Exemple13\n",
    "```\n",
    "Lorsque vous ouvrez un fichier de ce type dans Excel, voici à quoi il ressemble :\n",
    "\n",
    "||||\n",
    "|:--|:--|:--|\n",
    "|Donnée1\t|Donnée2\t|Donnée3|\n",
    "|Exemple1\t|Exemple2\t|Exemple3|\n",
    "\n",
    "Il s'agit d'un fichier tabulaire _séparé par des virgules_. Les fichiers de ce type sont généralement enregistrés avec l'extension `.csv`. Les fichiers `.csv` peuvent ensuite être ouverts et visualisés à l'aide d'un tableur, tel que Google Sheets, Numbers ou Microsoft Excel.\n",
    "\n",
    "Mais qu'en est-il si nous voulons utiliser les données dans Python ?\n",
    "\n",
    "#### Ouverture des fichiers :\n",
    "Heureusement, il existe des paquets communautaires qui peuvent vous aider à importer et à récupérer vos données tabulaires avec un minimum d'effort. Nous présentons ici deux de ces packages : CSV et Pandas.\n",
    "\n",
    "##### Lire des fichiers CSV avec le paquetage `CSV`\n",
    "\n",
    "`reader()` peut être utilisé pour créer un objet qui est utilisé pour lire les données d'un fichier CSV. Le lecteur peut être utilisé comme un itérateur pour traiter les lignes du fichier dans l'ordre. Voyons un exemple :"
   ]
  },
  {
   "cell_type": "code",
   "execution_count": null,
   "metadata": {},
   "outputs": [],
   "source": [
    "import pooch\n",
    "import urllib.request\n",
    "datafile = pooch.retrieve('https://unils-my.sharepoint.com/:x:/g/personal/tom_beucler_unil_ch/ETDZdgCkWbZLiv_LP6HKCOAB2NP7H0tUTLlP_stknqQHGw?download=1',\n",
    "                          known_hash='c7676360997870d00a0da139c80fb1b6d26e1f96050e03f2fed75b921beb4771')"
   ]
  },
  {
   "cell_type": "code",
   "execution_count": null,
   "metadata": {},
   "outputs": [],
   "source": [
    "row = []\n",
    "# https://unils-my.sharepoint.com/:x:/g/personal/tom_beucler_unil_ch/ETDZdgCkWbZLiv_LP6HKCOAB2NP7H0tUTLlP_stknqQHGw?e=N541Yq\n",
    "with open(datafile, 'r') as fh:\n",
    "  reader = csv.reader(fh)\n",
    "  for info in reader:\n",
    "    row.append(info)"
   ]
  },
  {
   "cell_type": "code",
   "execution_count": null,
   "metadata": {},
   "outputs": [],
   "source": [
    "print(row[0])"
   ]
  },
  {
   "cell_type": "code",
   "execution_count": null,
   "metadata": {},
   "outputs": [],
   "source": [
    "print(row[1])"
   ]
  },
  {
   "cell_type": "markdown",
   "metadata": {},
   "source": [
    "``{tip}\n",
    "Dans le code ci-dessus, nous utilisons la méthode `csv.reader()` pour lire itérativement chaque ligne du fichier CSV.\n",
    "\n",
    "Nous ajoutons une nouvelle ligne à une liste vide à chaque itération.\n",
    "\n",
    "Nous utilisons la fonction `print()` pour voir ce qui a été écrit dans la liste. Nous avons constaté que la première ligne contient des informations sur les noms de variables, tandis que la deuxième ligne contient des données à un pas de temps donné.\n",
    "```\n",
    "\n",
    "#### Extraire les données et les écrire dans un nouveau fichier CSV :\n",
    "Le fichier CSV que nous venons d'importer contient en fait les données des stations météorologiques de janvier 2022 à août 2022. Que se passe-t-il si nous ne voulons que les données des cinq premières lignes ? Pouvons-nous extraire les données et les enregistrer dans un nouveau fichier CSV ?"
   ]
  },
  {
   "cell_type": "code",
   "execution_count": null,
   "metadata": {},
   "outputs": [],
   "source": [
    "with open('testsmall.csv', 'w') as fh:\n",
    "  writer = csv.writer(fh)\n",
    "  for num in range(5):\n",
    "    writer.writerow(row[num])"
   ]
  },
  {
   "cell_type": "markdown",
   "metadata": {},
   "source": [
    "```{note}\n",
    "\n",
    "En fait, il existe un meilleur paquetage pour les données tabulaires. Cette bibliothèque s'appelle `Pandas`. Nous présenterons ce paquetage plus en détail la semaine prochaine. Pour l'instant, nous allons simplement démontrer que nous pouvons utiliser pandas pour faire la même procédure FileI/O que nous avons faite plus tôt avec CSV.\n",
    "\n",
    "Ici, nous lisons la grande feuille de données de la station météorologique `datafile` avec la fonction pandas `.read_csv()`.\n",
    "```"
   ]
  },
  {
   "cell_type": "code",
   "execution_count": null,
   "metadata": {},
   "outputs": [],
   "source": [
    "# importer fichier CSV avec pandas\n",
    "ALOdatasheet = pd.read_csv(datafile)"
   ]
  },
  {
   "cell_type": "code",
   "execution_count": null,
   "metadata": {},
   "outputs": [],
   "source": [
    "# Exporter les cinq premières lignes du cadre de données Pandas vers un fichier CSV\n",
    "ALOdatasheet[0:5].to_csv('./testsmall_pd.csv')"
   ]
  },
  {
   "cell_type": "markdown",
   "metadata": {},
   "source": [
    "### Sérialisation et désérialisation avec Pickle\n",
    "(Réécrit à partir du GSFC Python Bootcamp)\n",
    "\n",
    "Pickle est un format interne de Python qui permet d'écrire des données arbitraires dans un fichier de manière à pouvoir les relire, intactes.\n",
    "* `pickle` \"sérialise\" d'abord l'objet avant de l'écrire dans un fichier.\n",
    "* Le décapage (sérialisation) est un moyen de convertir un objet Python (liste, dict, etc.) en un flux de caractères qui contient toutes les informations nécessaires pour reconstruire l'objet dans un autre script Python.\n",
    "\n",
    "Les types suivants peuvent être sérialisés et désérialisés en utilisant le module `pickle` :\n",
    "* Tous les types de données natifs supportés par Python (booléens, None, entiers, flottants, nombres complexes, chaînes de caractères, octets, tableaux d'octets).\n",
    "* Dictionnaires, ensembles, listes et tuples - tant qu'ils contiennent des objets sélectionnables.\n",
    "* Les fonctions (décryptées par leur nom de référence, et non par leur valeur) et les classes qui sont définies au niveau supérieur d'un module.\n",
    "\n",
    "Les fonctions principales de `pickle` sont :\n",
    "\n",
    "* `dump()` : récupère des données en acceptant des données et un objet fichier.\n",
    "* `load()` : prend un objet fichier, reconstruit les objets à partir de la représentation décapée, et les renvoie.\n",
    "* `dumps()` : renvoie les données décryptées sous forme de chaîne de caractères.\n",
    "* `loads()` : lit les données extraites d'une chaîne.\n",
    "\n",
    "`dump()`/`load()` sérialise/désérialise les objets à travers des fichiers mais `dumps()`/`loads()` sérialise/désérialise les objets à travers une représentation sous forme de chaîne de caractères."
   ]
  },
  {
   "cell_type": "code",
   "execution_count": null,
   "metadata": {},
   "outputs": [],
   "source": [
    "# Exemple de dictionnaire Python\n",
    "data_org = { 'mydata1':np.linspace(0,800,801), 'mydata2':np.linspace(0,60,61)}"
   ]
  },
  {
   "cell_type": "code",
   "execution_count": null,
   "metadata": {},
   "outputs": [],
   "source": [
    "# Enregistrer un dictionnaire Python dans un fichier pickle\n",
    "with open('pickledict_sample.pkl', 'wb') as fid:\n",
    "     pickle.dump(data_org, fid)\n",
    "# Deserialize saved pickle file\n",
    "with open('pickledict_sample.pkl', 'rb') as fid:\n",
    "     data3 = pickle.load(fid)"
   ]
  },
  {
   "cell_type": "code",
   "execution_count": null,
   "metadata": {},
   "outputs": [],
   "source": [
    "for strg in data_org.keys():\n",
    "  print(f\"Variable {strg} is the same in data_org and data3: {(data_org[strg]==data3[strg]).all()}\")"
   ]
  }
 ],
 "metadata": {
  "kernelspec": {
   "display_name": "base",
   "language": "python",
   "name": "python3"
  },
  "language_info": {
   "codemirror_mode": {
    "name": "ipython",
    "version": 3
   },
   "file_extension": ".py",
   "mimetype": "text/x-python",
   "name": "python",
   "nbconvert_exporter": "python",
   "pygments_lexer": "ipython3",
   "version": "3.9.18"
  }
 },
 "nbformat": 4,
 "nbformat_minor": 2
}