{
 "cells": [
  {
   "cell_type": "markdown",
   "metadata": {},
   "source": [
    "# Introduction et bases de la programmation"
   ]
  },
  {
   "cell_type": "markdown",
   "metadata": {},
   "source": [
    "Familiarisation avec l'environnement Python et premiers pas dans la programmation\n",
    "\n",
    "- Principes de la programmation: différents types de langages, historique, environnements d'exécution\n",
    "- Introduction de l'environnement Python, premier script \"Hello world\"\n",
    "- Variables et types de données, opérations arithmétiques de base\n"
   ]
  },
  {
   "cell_type": "markdown",
   "metadata": {},
   "source": [
    "--> ajouter le script d'exécution (.md) (peut prendre le même?)"
   ]
  }
 ],
 "metadata": {
  "language_info": {
   "codemirror_mode": {
    "name": "ipython",
    "version": 3
   },
   "file_extension": ".py",
   "mimetype": "text/x-python",
   "name": "python",
   "nbconvert_exporter": "python",
   "pygments_lexer": "ipython3",
   "version": "3.9.18"
  }
 },
 "nbformat": 4,
 "nbformat_minor": 2
}