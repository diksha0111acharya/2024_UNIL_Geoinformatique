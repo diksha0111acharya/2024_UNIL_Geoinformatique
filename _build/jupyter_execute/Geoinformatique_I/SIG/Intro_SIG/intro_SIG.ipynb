{
 "cells": [
  {
   "cell_type": "markdown",
   "metadata": {},
   "source": [
    "# Cours de Géoinformatique et SIG"
   ]
  },
  {
   "cell_type": "markdown",
   "metadata": {},
   "source": [
    "### Objectifs\n",
    "\n",
    "- Savoir définir un SIG\n",
    "- Citer les avantages des SIG (de la géomatique)\n",
    "par rapport à la cartographie traditionnelle\n",
    "- Comprendre la différence entre un phénomène\n",
    "discret et continu\n",
    "- Distinguer le modèle vecteur du modèle raster\n",
    "(matriciel)\n",
    "- Définir ce que sont les couches thématiques et primitives géographiques"
   ]
  }
 ],
 "metadata": {
  "language_info": {
   "codemirror_mode": {
    "name": "ipython",
    "version": 3
   },
   "file_extension": ".py",
   "mimetype": "text/x-python",
   "name": "python",
   "nbconvert_exporter": "python",
   "pygments_lexer": "ipython3",
   "version": "3.9.18"
  }
 },
 "nbformat": 4,
 "nbformat_minor": 2
}