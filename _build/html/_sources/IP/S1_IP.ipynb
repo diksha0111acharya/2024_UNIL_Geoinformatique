{
 "cells": [
  {
   "cell_type": "markdown",
   "metadata": {},
   "source": [
    "# Introduction et bases de la programmation"
   ]
  },
  {
   "cell_type": "markdown",
   "metadata": {},
   "source": [
    "Familiarisation avec l'environnement Python et premiers pas dans la programmation\n",
    "\n",
    "- Principes de la programmation: différents types de langages, historique, environnements d'exécution\n",
    "- Introduction de l'environnement Python, premier script \"Hello world\"\n",
    "- Variables et types de données, opérations arithmétiques de base\n"
   ]
  },
  {
   "cell_type": "markdown",
   "metadata": {},
   "source": [
    "--> ajouter le script d'exécution (.md) (peut prendre le même?)"
   ]
  }
 ],
 "metadata": {
  "language_info": {
   "name": "python"
  }
 },
 "nbformat": 4,
 "nbformat_minor": 2
}
