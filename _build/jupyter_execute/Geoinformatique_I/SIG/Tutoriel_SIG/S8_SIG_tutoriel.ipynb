{
 "cells": [
  {
   "cell_type": "markdown",
   "metadata": {},
   "source": [
    "## Tutoriel 8 - Données spatiale\n",
    "\n",
    "Dans cette section, nous aborderons les points suivants:\n",
    "\n",
    "- Principe et intérêt de l'OpenData et des métadonnées\n",
    "- Géodatabase\n",
    "- Séléections, requêtes et jointures\n",
    "- Geopandas"
   ]
  }
 ],
 "metadata": {
  "language_info": {
   "codemirror_mode": {
    "name": "ipython",
    "version": 3
   },
   "file_extension": ".py",
   "mimetype": "text/x-python",
   "name": "python",
   "nbconvert_exporter": "python",
   "pygments_lexer": "ipython3",
   "version": "3.9.18"
  }
 },
 "nbformat": 4,
 "nbformat_minor": 2
}