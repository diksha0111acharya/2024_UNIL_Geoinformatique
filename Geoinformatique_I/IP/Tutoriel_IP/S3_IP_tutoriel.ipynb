{
 "cells": [
  {
   "cell_type": "markdown",
   "metadata": {},
   "source": [
    "<a href=\"https://colab.research.google.com/github/tbeucler/2024_UNIL_Geoinformatique/blob/main/Geoinformatique_I/IP/Tutoriel_IP/S3_IP_tutoriel.ipynb\" target=\"_parent\"><img src=\"https://colab.research.google.com/assets/colab-badge.svg\" alt=\"Open In Colab\"/></a>"
   ]
  },
  {
   "cell_type": "markdown",
   "metadata": {},
   "source": [
    "## Tutoriel 3: Structure de données\n",
    "\n",
    "Dans cette section, nous aborderons les points suivants:\n",
    "\n",
    "1. File I/O\n",
    "2. List\n",
    "3. Tuples\n",
    "4. Sets\n",
    "5. Dictionnaires\n",
    "\n",
    "Références:\n",
    "* IBM Congnitive Class - Intro to Python (https://github.com/computationalcore/introduction-to-python)\n",
    "* CUSP UCSL bootcamp 2017 (https://github.com/Mohitsharma44/ucsl17)"
   ]
  },
  {
   "cell_type": "markdown",
   "metadata": {},
   "source": [
    "## File I/O\n",
    "Dans cette section, nous présenterons les fonctions de base que nous pouvons utiliser pour stocker et récupérer des données à partir de fichiers de différents formats.\n",
    "\n",
    "Pour les projets en sciences de l'environnement, les données de recherche sont le plus souvent stockées dans les formats suivants :\n",
    "1.   Fichiers texte (`TXT`)\n",
    "2.   Fichiers tabulaires (par exemple, `CSV`, `XLS`)\n",
    "3.   Données structurées / dictionnaires Python, etc. (par exemple, `Pickle`, `dill`, `JSON`)\n",
    "4.   Données maillées (par exemple, `HDF5`, `NetCDF`)\n",
    "\n",
    "Nous allons maintenant voir comment nous pouvons utiliser Python et différents paquets Python pour récupérer les données stockées dans ces formats, et comment sauvegarder vos données dans différents formats pour une utilisation ultérieure.\n",
    "\n",
    "Référence:\n",
    "*   CUSP UCSL bootcamp 2017 (https://github.com/Mohitsharma44/ucsl17)\n",
    "*   Python 3 tutorial (https://docs.python.org/3/tutorial/inputoutput.html)\n",
    "*   GSFC Python Bootcamp (https://github.com/astg606/py_materials/blob/master/useful_modules/)\n",
    "*   Working on JSON Data in Python (https://realpython.com/python-json/)\n",
    "*   PyHOGS (http://pyhogs.github.io/intro_netcdf4.html)"
   ]
  },
  {
   "cell_type": "markdown",
   "metadata": {},
   "source": [
    "Commençons par importer quelques paquets..."
   ]
  },
  {
   "cell_type": "code",
   "execution_count": null,
   "metadata": {},
   "outputs": [],
   "source": [
    "import csv\n",
    "import netCDF4\n",
    "import pickle\n",
    "import pandas as pd\n",
    "import xarray as xr\n",
    "import numpy as np"
   ]
  },
  {
   "cell_type": "markdown",
   "metadata": {},
   "source": [
    "### Fichiers TXT\n",
    "Nous allons maintenant apprendre à écrire des informations dans un fichier .TXT et à les relire à l'aide de fonctions Python intégrées. Les données utilisées dans cette partie du tutoriel seront très simples. Dans les prochains exercices, nous présenterons également les commandes des paquets communautaires qui nous permettent de lire et de stocker des données plus complexes.\n",
    "\n",
    "#### Ouverture de fichiers :\n",
    "Les fichiers peuvent être ouverts en utilisant la fonction intégrée de Python `open()`. Cette fonction crée un objet fichier pour les opérations suivantes. Utilisez la syntaxe suivante pour lire un fichier TXT : \\\\\n",
    "`fhandler = open(file_name, access mode, encoding)`\n",
    "\n",
    "- `nom_du_fichier` : Le nom du fichier sur lequel vous souhaitez effectuer vos opérations d'E/S. \\\n",
    "Notez qu'il s'agit du chemin d'accès complet au fichier (par exemple, $\\text{\\\\home\\\\Documents\\\\file.txt}$ )\n",
    "- `encodage` : Schéma d'encodage à utiliser pour convertir le flux d'octets en texte. (Standard=`utf-8`)\n",
    "- `access_mode` : La façon dont un fichier est ouvert, les choix disponibles pour cette option incluent :\n",
    "\n",
    "|access_mode | Its Function|\n",
    "|:------|------------:|\n",
    "|r\t|Ouvre un fichier en lecture seule|\n",
    "|rb\t|Ouvre un fichier en lecture seule au format binaire|\n",
    "|r+\t|Ouvre un fichier pour la lecture et l'écriture|\n",
    "|rb+\t|Ouvre un fichier pour la lecture et l'écriture au format binaire|\n",
    "|w\t|Ouvre un fichier en écriture uniquement|\n",
    "|wb\t|Ouvre un fichier en écriture uniquement au format binaire|\n",
    "|w+\t|Ouvre un fichier en lecture et en écriture|\n",
    "|wb+\t|Ouvre un fichier pour l'écriture et la lecture au format binaire|\n",
    "|a\t|Ouvre un fichier pour l'ajouter|\n",
    "|ab\t|Ouvre un fichier pour l'ajouter en binaire|\n",
    "|a+\t|Ouvre un fichier pour l'ajout et la lecture|\n",
    "|ab+\t|Ouvre un fichier pour l'ajout et la lecture au format binaire|\n",
    "\n",
    "Dans l'exemple ci-dessous, nous allons essayer de stocker plusieurs phrases dans un nouveau fichier TXT, et utiliser la fonction `open()` pour voir si le code fonctionne comme prévu."
   ]
  },
  {
   "cell_type": "code",
   "execution_count": null,
   "metadata": {},
   "outputs": [],
   "source": [
    "fhandler = open('test.txt', 'w', encoding=\"utf-8\")\n",
    "fhandler.write('Hello World!\\n')\n",
    "fhandler.write('I am a UNIL Master Student.\\n')\n",
    "fhandler.write('I am learning how to code!\\n')\n",
    "fhandler.close()"
   ]
  },
  {
   "cell_type": "markdown",
   "metadata": {},
   "source": [
    "```{note}\n",
    "In the code above, we use the `open()` command to create a *write-only* (`access_mode='w'`) file `test.txt`. The open command creates a file object (`fhandler`) on which we can perform extra operations.\n",
    "\n",
    "We then try to add three sentences to the TXT file using the `.write()` operation on the file object.\n",
    "\n",
    "Remember to close the file with `.close()` command so that the changes can be finalized!\n",
    "\n",
    "If the code is writing, we should see a `test.txt` file created in the same path as this notebook. Let's see if that's the case!\n",
    "```"
   ]
  },
  {
   "cell_type": "code",
   "execution_count": null,
   "metadata": {},
   "outputs": [],
   "source": [
    "! ls ."
   ]
  },
  {
   "cell_type": "code",
   "execution_count": null,
   "metadata": {},
   "outputs": [],
   "source": [
    "! cat test.txt"
   ]
  },
  {
   "cell_type": "markdown",
   "metadata": {},
   "source": [
    "Hourra ! Ça marche ! 😀\n",
    "\n",
    "Mais n'avons-nous pas dit que nous voulions le relire ? 🤨\n",
    "\n",
    "Essayons de lire le fichier alors ! Pouvez-vous penser à des façons de le faire ?\n",
    "\n",
    "Voici quelques-unes des fonctions que vous pourriez utiliser.\n",
    "\n",
    "1.   `.close()` : Ferme le fichier actuellement ouvert.\n",
    "2.   `.readline([size])` : Lit les chaînes de caractères d'un fichier jusqu'à ce qu'il atteigne le caractère de nouvelle ligne `\\n` si le paramètre `size` est vide. Sinon, il lira la chaîne de caractères de la taille donnée.\n",
    "3.   `.readlines([size])` : Appelle répétitivement `.readline()` jusqu'à la fin du fichier.\n",
    "4.   `.write(str)` : Écrit la chaîne de caractères str dans le fichier.\n",
    "5.   `.writelines([list])` : Ecrit une séquence de chaînes de caractères dans un fichier. Aucune nouvelle ligne n'est ajoutée automatiquement."
   ]
  },
  {
   "cell_type": "code",
   "execution_count": null,
   "metadata": {},
   "outputs": [],
   "source": [
    "fhandler = open('test.txt','r',encoding='utf-8')\n",
    "fhandler.readlines()"
   ]
  },
  {
   "cell_type": "markdown",
   "metadata": {},
   "source": [
    "Et si nous voulions ajouter du texte au fichier ?"
   ]
  },
  {
   "cell_type": "code",
   "execution_count": null,
   "metadata": {},
   "outputs": [],
   "source": [
    "with open('test.txt', 'r+') as fhandler:\n",
    "  print(fhandler.readlines())\n",
    "  fhandler.writelines(['Now,\\n', 'I am trying to', ' add some stuff.'])\n",
    "  # Go to the starting of file\n",
    "  fhandler.seek(0)\n",
    "  # Print the content of file\n",
    "  print(fhandler.readlines())"
   ]
  },
  {
   "cell_type": "markdown",
   "metadata": {},
   "source": [
    "Ici, nous utilisons une autre méthode pour ouvrir et écrire le fichier de données.\n",
    "En utilisant l'instruction `with` pour ouvrir le fichier TXT, nous nous assurons que les données sont automatiquement fermées après l'opération finale. Nous n'avons plus besoin d'écrire l'instruction `fhandler.close()`."
   ]
  },
  {
   "cell_type": "markdown",
   "metadata": {},
   "source": [
    "### Fichiers tabulaires\n",
    "Que feriez-vous si vous aviez des données joliment organisées dans le format ci-dessous ?\n",
    "```\n",
    "Données1, Données2, Données3\n",
    "Exemple01, Exemple02, Exemple03\n",
    "Exemple11, Exemple12, Exemple13\n",
    "```\n",
    "Lorsque vous ouvrez un fichier de ce type dans Excel, voici à quoi il ressemble :\n",
    "\n",
    "||||\n",
    "|:--|:--|:--|\n",
    "|Donnée1\t|Donnée2\t|Donnée3|\n",
    "|Exemple1\t|Exemple2\t|Exemple3|\n",
    "\n",
    "Il s'agit d'un fichier tabulaire _séparé par des virgules_. Les fichiers de ce type sont généralement enregistrés avec l'extension `.csv`. Les fichiers `.csv` peuvent ensuite être ouverts et visualisés à l'aide d'un tableur, tel que Google Sheets, Numbers ou Microsoft Excel.\n",
    "\n",
    "Mais qu'en est-il si nous voulons utiliser les données dans Python ?\n",
    "\n",
    "#### Ouverture des fichiers :\n",
    "Heureusement, il existe des paquets communautaires qui peuvent vous aider à importer et à récupérer vos données tabulaires avec un minimum d'effort. Nous présentons ici deux de ces packages : CSV et Pandas.\n",
    "\n",
    "##### Lire des fichiers CSV avec le paquetage `CSV`\n",
    "\n",
    "`reader()` peut être utilisé pour créer un objet qui est utilisé pour lire les données d'un fichier CSV. Le lecteur peut être utilisé comme un itérateur pour traiter les lignes du fichier dans l'ordre. Voyons un exemple :"
   ]
  },
  {
   "cell_type": "code",
   "execution_count": null,
   "metadata": {},
   "outputs": [],
   "source": [
    "import pooch\n",
    "import urllib.request\n",
    "datafile = pooch.retrieve('https://unils-my.sharepoint.com/:x:/g/personal/tom_beucler_unil_ch/ETDZdgCkWbZLiv_LP6HKCOAB2NP7H0tUTLlP_stknqQHGw?download=1',\n",
    "                          known_hash='c7676360997870d00a0da139c80fb1b6d26e1f96050e03f2fed75b921beb4771')"
   ]
  },
  {
   "cell_type": "code",
   "execution_count": null,
   "metadata": {},
   "outputs": [],
   "source": [
    "row = []\n",
    "# https://unils-my.sharepoint.com/:x:/g/personal/tom_beucler_unil_ch/ETDZdgCkWbZLiv_LP6HKCOAB2NP7H0tUTLlP_stknqQHGw?e=N541Yq\n",
    "with open(datafile, 'r') as fh:\n",
    "  reader = csv.reader(fh)\n",
    "  for info in reader:\n",
    "    row.append(info)"
   ]
  },
  {
   "cell_type": "code",
   "execution_count": null,
   "metadata": {},
   "outputs": [],
   "source": [
    "print(row[0])"
   ]
  },
  {
   "cell_type": "code",
   "execution_count": null,
   "metadata": {},
   "outputs": [],
   "source": [
    "print(row[1])"
   ]
  },
  {
   "cell_type": "markdown",
   "metadata": {},
   "source": [
    "``{tip}\n",
    "Dans le code ci-dessus, nous utilisons la méthode `csv.reader()` pour lire itérativement chaque ligne du fichier CSV.\n",
    "\n",
    "Nous ajoutons une nouvelle ligne à une liste vide à chaque itération.\n",
    "\n",
    "Nous utilisons la fonction `print()` pour voir ce qui a été écrit dans la liste. Nous avons constaté que la première ligne contient des informations sur les noms de variables, tandis que la deuxième ligne contient des données à un pas de temps donné.\n",
    "```\n",
    "\n",
    "#### Extraire les données et les écrire dans un nouveau fichier CSV :\n",
    "Le fichier CSV que nous venons d'importer contient en fait les données des stations météorologiques de janvier 2022 à août 2022. Que se passe-t-il si nous ne voulons que les données des cinq premières lignes ? Pouvons-nous extraire les données et les enregistrer dans un nouveau fichier CSV ?"
   ]
  },
  {
   "cell_type": "code",
   "execution_count": null,
   "metadata": {},
   "outputs": [],
   "source": [
    "with open('testsmall.csv', 'w') as fh:\n",
    "  writer = csv.writer(fh)\n",
    "  for num in range(5):\n",
    "    writer.writerow(row[num])"
   ]
  },
  {
   "cell_type": "markdown",
   "metadata": {},
   "source": [
    "```{note}\n",
    "\n",
    "En fait, il existe un meilleur paquetage pour les données tabulaires. Cette bibliothèque s'appelle `Pandas`. Nous présenterons ce paquetage plus en détail la semaine prochaine. Pour l'instant, nous allons simplement démontrer que nous pouvons utiliser pandas pour faire la même procédure FileI/O que nous avons faite plus tôt avec CSV.\n",
    "\n",
    "Ici, nous lisons la grande feuille de données de la station météorologique `datafile` avec la fonction pandas `.read_csv()`.\n",
    "```"
   ]
  },
  {
   "cell_type": "code",
   "execution_count": null,
   "metadata": {},
   "outputs": [],
   "source": [
    "# importer fichier CSV avec pandas\n",
    "ALOdatasheet = pd.read_csv(datafile)"
   ]
  },
  {
   "cell_type": "code",
   "execution_count": null,
   "metadata": {},
   "outputs": [],
   "source": [
    "# Exporter les cinq premières lignes du cadre de données Pandas vers un fichier CSV\n",
    "ALOdatasheet[0:5].to_csv('./testsmall_pd.csv')"
   ]
  },
  {
   "cell_type": "markdown",
   "metadata": {},
   "source": [
    "### Sérialisation et désérialisation avec Pickle\n",
    "(Réécrit à partir du GSFC Python Bootcamp)\n",
    "\n",
    "Pickle est un format interne de Python qui permet d'écrire des données arbitraires dans un fichier de manière à pouvoir les relire, intactes.\n",
    "* `pickle` \"sérialise\" d'abord l'objet avant de l'écrire dans un fichier.\n",
    "* Le décapage (sérialisation) est un moyen de convertir un objet Python (liste, dict, etc.) en un flux de caractères qui contient toutes les informations nécessaires pour reconstruire l'objet dans un autre script Python.\n",
    "\n",
    "Les types suivants peuvent être sérialisés et désérialisés en utilisant le module `pickle` :\n",
    "* Tous les types de données natifs supportés par Python (booléens, None, entiers, flottants, nombres complexes, chaînes de caractères, octets, tableaux d'octets).\n",
    "* Dictionnaires, ensembles, listes et tuples - tant qu'ils contiennent des objets sélectionnables.\n",
    "* Les fonctions (décryptées par leur nom de référence, et non par leur valeur) et les classes qui sont définies au niveau supérieur d'un module.\n",
    "\n",
    "Les fonctions principales de `pickle` sont :\n",
    "\n",
    "* `dump()` : récupère des données en acceptant des données et un objet fichier.\n",
    "* `load()` : prend un objet fichier, reconstruit les objets à partir de la représentation décapée, et les renvoie.\n",
    "* `dumps()` : renvoie les données décryptées sous forme de chaîne de caractères.\n",
    "* `loads()` : lit les données extraites d'une chaîne.\n",
    "\n",
    "`dump()`/`load()` sérialise/désérialise les objets à travers des fichiers mais `dumps()`/`loads()` sérialise/désérialise les objets à travers une représentation sous forme de chaîne de caractères."
   ]
  },
  {
   "cell_type": "code",
   "execution_count": null,
   "metadata": {},
   "outputs": [],
   "source": [
    "# Exemple de dictionnaire Python\n",
    "data_org = { 'mydata1':np.linspace(0,800,801), 'mydata2':np.linspace(0,60,61)}"
   ]
  },
  {
   "cell_type": "code",
   "execution_count": null,
   "metadata": {},
   "outputs": [],
   "source": [
    "# Enregistrer un dictionnaire Python dans un fichier pickle\n",
    "with open('pickledict_sample.pkl', 'wb') as fid:\n",
    "     pickle.dump(data_org, fid)\n",
    "# Deserialize saved pickle file\n",
    "with open('pickledict_sample.pkl', 'rb') as fid:\n",
    "     data3 = pickle.load(fid)"
   ]
  },
  {
   "cell_type": "code",
   "execution_count": null,
   "metadata": {},
   "outputs": [],
   "source": [
    "for strg in data_org.keys():\n",
    "  print(f\"Variable {strg} is the same in data_org and data3: {(data_org[strg]==data3[strg]).all()}\")"
   ]
  },
  {
   "cell_type": "markdown",
   "metadata": {},
   "source": [
    "## Lists"
   ]
  },
  {
   "cell_type": "markdown",
   "metadata": {},
   "source": [
    "La création de listes est très facile en Python. Nous pouvons créer des listes en séparant les différents éléments par des virgules entre crochets:``[Item1,Item2,Item3]``.\n",
    "`[Élément1,Élément2,Élément3]`\n",
    "\n",
    "Il existe de nombreuses façons d'interagir avec les listes. Les explorer fait partie du plaisir de Python.\n",
    "\n",
    "**list.append(x)** Ajoute un élément à la fin de la liste. Equivalent à `a[len(a) :] = [x]`.\n",
    "\n",
    "**list.extend(L)** Étendre la liste en y ajoutant tous les éléments de la liste donnée. Equivalent à `a[len(a) :] = L`.\n",
    "\n",
    "**list.insert(i, x)** Insère un élément à une position donnée. Le premier argument est\n",
    "l'indice de l'élément avant lequel insérer, donc `a.insert(0, x)` insère en début de liste, et `a.insert(0, x)` insère en fin de liste.\n",
    "au début de la liste, et `a.insert(len(a), x)` est équivalent à\n",
    "`a.append(x)`.\n",
    "\n",
    "**list.remove(x)** Supprime le premier élément de la liste dont la valeur est x. C'est une erreur s'il n'y a pas d'élément de ce type.\n",
    "\n",
    "**list.pop([i])** Enlève l'élément à la position donnée dans la liste et le renvoie.\n",
    "Si aucun index n'est spécifié, `a.pop()` supprime et renvoie le dernier élément de la liste.\n",
    "(Les crochets autour du i dans la signature de la méthode indiquent que le paramètre est optionnel, et non pas que vous devez le retourner).\n",
    " est optionnel, et non pas que vous devez taper des crochets à cette position.\n",
    " à cette position. Vous verrez souvent cette notation dans la référence de la bibliothèque Python).\n",
    "\n",
    " **list.clear()** Supprime tous les éléments de la liste. Equivalent à `del a[ :]`.\n",
    "\n",
    "**list.index(x)** Retourne l'index dans la liste du premier élément dont la valeur est x.\n",
    "C'est une erreur s'il n'y a pas d'élément de ce type.\n",
    "\n",
    "**list.count(x)** Retourne le nombre de fois que x apparaît dans la liste.\n",
    "\n",
    "**list.sort()** Trie les éléments de la liste à la place.\n",
    "\n",
    "**list.reverse()** Inverse les éléments de la liste en place.\n",
    "\n",
    "**list.copy()** Retourne une copie superficielle de la liste. Equivalent à `a[ :]`."
   ]
  },
  {
   "cell_type": "code",
   "execution_count": 1,
   "metadata": {},
   "outputs": [
    {
     "data": {
      "text/plain": [
       "list"
      ]
     },
     "execution_count": 1,
     "metadata": {},
     "output_type": "execute_result"
    }
   ],
   "source": [
    "# Expérimentons quelques-unes de ces méthodes !\n",
    "# 1. Créer d'abord une liste\n",
    "l = ['chien', 'chat', 'poisson', 'poulet', 'oeufs', 'canard']\n",
    "type(l)"
   ]
  },
  {
   "cell_type": "code",
   "execution_count": 2,
   "metadata": {},
   "outputs": [
    {
     "name": "stdout",
     "output_type": "stream",
     "text": [
      "chien canard ['chien', 'chat', 'poisson'] ['poulet', 'oeufs']\n"
     ]
    }
   ],
   "source": [
    "# Découpage de la liste\n",
    "print(l[0],l[-1],l[0:3],l[-3:-1])"
   ]
  },
  {
   "cell_type": "markdown",
   "metadata": {},
   "source": [
    "**Pensez à mémoriser cette syntaxe !**\n",
    "Elle est au cœur de Python et s'avère souvent déroutante pour les utilisateurs qui viennent d'autres langages."
   ]
  },
  {
   "cell_type": "markdown",
   "metadata": {},
   "source": [
    "#### **Mise à jour de la liste**\n",
    "Contrairement aux chaînes et aux tuples, les listes sont mutables. Vous pouvez mettre à jour la liste et modifier les éléments quand vous le souhaitez."
   ]
  },
  {
   "cell_type": "code",
   "execution_count": 7,
   "metadata": {},
   "outputs": [
    {
     "name": "stdout",
     "output_type": "stream",
     "text": [
      "Contenu original : \n",
      " ['chien', 'chat', 'Arbre', 'poulet', 'œufs', 'canard']\n",
      "Longueur originale du tableau : \n",
      " 6\n",
      "Contenu modifié : \n",
      " ['chien', 'chat', 'œufs', 'canard']\n",
      "Longueur modifiée du tableau : \n",
      " 4\n"
     ]
    }
   ],
   "source": [
    "my_list = ['chien', 'chat', 'poisson', 'poulet', 'œufs', 'canard']\n",
    "my_list[2] = 'Arbre'\n",
    "print('Contenu original : \\n', my_list)\n",
    "print('Longueur originale du tableau : \\n', len(my_list))\n",
    "\n",
    "# Enlever quelques éléments/changer la taille\n",
    "my_list[2:4] = []\n",
    "print('Contenu modifié : \\n', my_list)\n",
    "print('Longueur modifiée du tableau : \\n', len(my_list))"
   ]
  },
  {
   "cell_type": "markdown",
   "metadata": {},
   "source": [
    "Modifions la liste à l'aide des méthodes spécifiques aux listes dont nous avons parlé précédemment."
   ]
  },
  {
   "cell_type": "code",
   "execution_count": 12,
   "metadata": {},
   "outputs": [
    {
     "name": "stdout",
     "output_type": "stream",
     "text": [
      "['chien', 'chat', 'poisson', 'poulet', 'oeufs', 'canard', 'Python']\n",
      "['Julia', 'chien', 'chat', 'poisson', 'poulet', 'oeufs', 'canard', 'Python']\n"
     ]
    }
   ],
   "source": [
    "#@title #### **Ajouter de nouveaux éléments à la liste**\n",
    "my_list = ['chien', 'chat', 'poisson', 'poulet', 'oeufs', 'canard']\n",
    "my_list.append('Python') # Cela ajoutera l'élément à la fin de la liste\n",
    "print(my_list)\n",
    "my_list.insert(0, 'Julia')\n",
    "print(my_list)"
   ]
  },
  {
   "cell_type": "code",
   "execution_count": 13,
   "metadata": {},
   "outputs": [
    {
     "name": "stdout",
     "output_type": "stream",
     "text": [
      "['chien', 'chat', 'poisson', 'poulet', 'oeufs', 'canard', 'Python']\n",
      "['chien', 'chat', 'poisson', 'poulet', 'oeufs', 'canard']\n"
     ]
    }
   ],
   "source": [
    "#@title #### **Supprimez des éléments de la liste**\n",
    "my_list.pop(0)\n",
    "print(my_list)\n",
    "del(my_list[-1])\n",
    "print(my_list)"
   ]
  },
  {
   "cell_type": "code",
   "execution_count": 14,
   "metadata": {},
   "outputs": [
    {
     "name": "stdout",
     "output_type": "stream",
     "text": [
      "1\n",
      "5\n"
     ]
    }
   ],
   "source": [
    "#@title #### **Compte, Index**\n",
    "print(my_list.count('poisson'))\n",
    "print(my_list.index('canard'))"
   ]
  },
  {
   "cell_type": "code",
   "execution_count": 15,
   "metadata": {},
   "outputs": [
    {
     "name": "stdout",
     "output_type": "stream",
     "text": [
      "['canard', 'oeufs', 'poulet', 'poisson', 'chat', 'chien']\n",
      "['canard', 'chat', 'chien', 'oeufs', 'poisson', 'poulet']\n",
      "['poulet', 'poisson', 'oeufs', 'chien', 'chat', 'canard']\n"
     ]
    }
   ],
   "source": [
    "#@title #### **Tri, Inversion**\n",
    "my_list = ['chien', 'chat', 'poisson', 'poulet', 'oeufs', 'canard']\n",
    "my_list.reverse()\n",
    "print(my_list)\n",
    "my_list.sort()\n",
    "print(my_list)\n",
    "my_list.sort(reverse=True)\n",
    "print(my_list)"
   ]
  },
  {
   "cell_type": "code",
   "execution_count": 16,
   "metadata": {},
   "outputs": [
    {
     "name": "stdout",
     "output_type": "stream",
     "text": [
      "['chien', 'chat', 'poisson', 'poulet', 'oeufs', 'canard', 'Python', 'Julia', 'C++']\n",
      "['chien', 'chat', 'poisson', 'poulet', 'oeufs', 'canard', 'Python', 'Julia', 'C++']\n"
     ]
    }
   ],
   "source": [
    "#@title #### **Concaténation de listes**\n",
    "my_list = ['chien', 'chat', 'poisson', 'poulet', 'oeufs', 'canard']\n",
    "my_list2 = ['Python', 'Julia', 'C++']\n",
    "print(my_list+my_list2)\n",
    "my_list.extend(my_list2)\n",
    "print(my_list)"
   ]
  },
  {
   "cell_type": "markdown",
   "metadata": {},
   "source": [
    "#### **Utiliser des listes en boucle**"
   ]
  },
  {
   "cell_type": "code",
   "execution_count": 17,
   "metadata": {},
   "outputs": [
    {
     "name": "stdout",
     "output_type": "stream",
     "text": [
      "ma_liste[0] : chien\n",
      "ma_liste[1] : chat\n",
      "ma_liste[2] : poisson\n",
      "ma_liste[3] : poulet\n",
      "ma_liste[4] : oeufs\n",
      "ma_liste[5] : canard\n",
      "ma_liste[6] : Python\n",
      "ma_liste[7] : Julia\n",
      "ma_liste[8] : C++\n"
     ]
    }
   ],
   "source": [
    "for index in range(len(my_list)) : # commence à 0 et va jusqu'à la longueur de la liste.\n",
    "    print(\"my_list[{}] : {}\".format(index, my_list[index]))"
   ]
  },
  {
   "cell_type": "code",
   "execution_count": 18,
   "metadata": {},
   "outputs": [
    {
     "name": "stdout",
     "output_type": "stream",
     "text": [
      "my_list[0] : chien\n",
      "my_list[1] : chat\n",
      "my_list[2] : poisson\n",
      "my_list[3] : poulet\n",
      "my_list[4] : oeufs\n",
      "my_list[5] : canard\n",
      "my_list[6] : Python\n",
      "my_list[7] : Julia\n",
      "my_list[8] : C++\n"
     ]
    }
   ],
   "source": [
    "# Nous pouvons en fait faire la même chose avec enumerate()\n",
    "for index,items in enumerate(my_list) :\n",
    "  print(\"my_list[{}] : {}\".format(index,items))"
   ]
  },
  {
   "cell_type": "markdown",
   "metadata": {},
   "source": [
    "**Compréhension de liste**\n",
    "\n",
    "La compréhension de liste est un moyen syntaxique de créer une liste basée sur la liste existante, comme nous l'avons fait en copiant les listes ci-dessus. La structure de base de la syntaxe comprend une boucle for qui parcourt la liste et évalue une condition à l'aide de la condition if... else. Elle stocke ensuite la sortie de la condition dans une nouvelle liste. Voyons un exemple rapide :"
   ]
  },
  {
   "cell_type": "code",
   "execution_count": 19,
   "metadata": {},
   "outputs": [
    {
     "name": "stdout",
     "output_type": "stream",
     "text": [
      "['chien', 'poisson', 'oeufs', 'Python', 'C++']\n",
      "[0, 1, 4, 9, 16]\n"
     ]
    }
   ],
   "source": [
    "my_list1 = [elem for index,elem in enumerate(my_list) if index % 2 == 0]\n",
    "print(my_list1)\n",
    "\n",
    "carrés = [n**2 for n in range(5)]\n",
    "print(carrés)"
   ]
  },
  {
   "cell_type": "markdown",
   "metadata": {},
   "source": [
    "**Traverser deux listes ensemble avec `zip()`**"
   ]
  },
  {
   "cell_type": "code",
   "execution_count": 20,
   "metadata": {},
   "outputs": [
    {
     "name": "stdout",
     "output_type": "stream",
     "text": [
      "first: cochon second: 0\n",
      "first: canard second: 1\n",
      "first: papillon second: 2\n"
     ]
    }
   ],
   "source": [
    "# iterate over two lists together uzing zip\n",
    "for item1, item2 in zip(['cochon','canard','papillon'],[0,1,2]):\n",
    "    print('first:', item1, 'second:', item2)"
   ]
  },
  {
   "cell_type": "markdown",
   "metadata": {},
   "source": [
    "## Tuples"
   ]
  },
  {
   "cell_type": "markdown",
   "metadata": {},
   "source": [
    "Les tuples sont similaires aux listes, mais ils sont *immuables*, c'est-à-dire qu'ils ne peuvent pas être étendus ou modifiés. Quel en est l'intérêt ? D'une manière générale, il s'agit de regrouper des données non homogènes. Les tuples peuvent ensuite être décompressés et distribués par d'autres parties de votre code.\n",
    "\n",
    "Les tuples peuvent sembler déroutants au début, mais avec le temps, vous finirez par les apprécier."
   ]
  },
  {
   "cell_type": "code",
   "execution_count": 21,
   "metadata": {},
   "outputs": [
    {
     "data": {
      "text/plain": [
       "tuple"
      ]
     },
     "execution_count": 21,
     "metadata": {},
     "output_type": "execute_result"
    }
   ],
   "source": [
    "# les tuples sont créés avec des parenthèses, ou simplement des virgules\n",
    "a = ('Ryan', 33, True)\n",
    "b = 'Takaya', 25, False\n",
    "type(b)"
   ]
  },
  {
   "cell_type": "code",
   "execution_count": 22,
   "metadata": {},
   "outputs": [
    {
     "name": "stdout",
     "output_type": "stream",
     "text": [
      "33\n"
     ]
    }
   ],
   "source": [
    "# peut être indexé comme un tableau\n",
    "print(a[1]) # pas le premier élément !"
   ]
  },
  {
   "cell_type": "code",
   "execution_count": 23,
   "metadata": {},
   "outputs": [
    {
     "name": "stdout",
     "output_type": "stream",
     "text": [
      "Ryan 33 True\n"
     ]
    }
   ],
   "source": [
    "# et ils peuvent être décompressés\n",
    "nom, age, statut = a\n",
    "print(nom,age,statut)"
   ]
  },
  {
   "cell_type": "code",
   "execution_count": 24,
   "metadata": {},
   "outputs": [
    {
     "name": "stdout",
     "output_type": "stream",
     "text": [
      "0\n"
     ]
    }
   ],
   "source": [
    "print(a.index('Ryan'))"
   ]
  },
  {
   "cell_type": "markdown",
   "metadata": {},
   "source": [
    "## Sets"
   ]
  },
  {
   "cell_type": "markdown",
   "metadata": {},
   "source": [
    "## Dictionnaires"
   ]
  },
  {
   "cell_type": "markdown",
   "metadata": {},
   "source": [
    "Il s'agit d'une structure de données extrêmement utile. Elle associe des **clés** à des **valeurs**.\n",
    "\n",
    "Les dictionnaires ne sont pas ordonnés !"
   ]
  },
  {
   "cell_type": "code",
   "execution_count": 47,
   "metadata": {},
   "outputs": [],
   "source": [
    "#@title #### **Différentes façons de créer des dictionnaires**\n",
    "d = {'nom' : 'Timothee', 'age' : 1} # Écrivez votre nom et votre âge ici\n",
    "e = dict(nom='Timothee', age=1) # Inscrivez le nom et l'âge de quelqu'un d'autre ici"
   ]
  },
  {
   "cell_type": "code",
   "execution_count": 48,
   "metadata": {},
   "outputs": [
    {
     "name": "stdout",
     "output_type": "stream",
     "text": [
      "Timothee\n",
      "nom :  Timothee\n",
      "sexe :    Pas trouvé\n"
     ]
    }
   ],
   "source": [
    "#@title #### **Accéder aux éléments du dictionnaire**\n",
    "print(d['nom'])\n",
    "print(\"nom : \", d.get('nom' , 'Pas trouvé'))\n",
    "print(\"sexe :   \", d.get('gender', 'Pas trouvé'))"
   ]
  },
  {
   "cell_type": "code",
   "execution_count": 49,
   "metadata": {},
   "outputs": [
    {
     "data": {
      "text/plain": [
       "{'nom': 'Timothee', 'age': 1, 'taille': (1, 50)}"
      ]
     },
     "execution_count": 49,
     "metadata": {},
     "output_type": "execute_result"
    }
   ],
   "source": [
    "#@title #### **Mise à jour du dictionnaire**\n",
    "# Ajouter une nouvelle paire variable-valeur :\n",
    "d['taille'] = (1,50) # un tuple, par exemple votre taille en (mètres,centimètres)\n",
    "d"
   ]
  },
  {
   "cell_type": "code",
   "execution_count": 50,
   "metadata": {},
   "outputs": [
    {
     "name": "stdout",
     "output_type": "stream",
     "text": [
      "{'nom': 'Timothee', 'age': 1, 'taille': (1, 50), 'lieu': 'Lausanne', 'nationalite': 'CH', 'annee_naissance': '2021'}\n"
     ]
    }
   ],
   "source": [
    "#@title #### **Ajouter un dictionnaire**\n",
    "# update() ajoute deux dictionnaires ensemble\n",
    "newdict = dict(lieu='Lausanne',nationalite='CH',annee_naissance='2021')\n",
    "d.update(newdict)\n",
    "print(d)"
   ]
  },
  {
   "cell_type": "code",
   "execution_count": 51,
   "metadata": {},
   "outputs": [
    {
     "name": "stdout",
     "output_type": "stream",
     "text": [
      "Identique ? True\n"
     ]
    }
   ],
   "source": [
    "#@title #### **Supprimer les éléments du dictionnaire**\n",
    "# pop(),del()\n",
    "d2 = d.copy()\n",
    "d2.pop('age')\n",
    "del d['age']\n",
    "print(f\"Identique ? {d==d2}\")"
   ]
  },
  {
   "cell_type": "code",
   "execution_count": 52,
   "metadata": {},
   "outputs": [
    {
     "name": "stdout",
     "output_type": "stream",
     "text": [
      "nom Timothee\n",
      "taille (1, 50)\n",
      "lieu Lausanne\n",
      "nationalite CH\n",
      "annee_naissance 2021\n"
     ]
    }
   ],
   "source": [
    "#@title #### **Dictionnaire transversal**\n",
    "# itérer sur les clés\n",
    "for k in d :\n",
    "    print(k, d[k])"
   ]
  },
  {
   "cell_type": "code",
   "execution_count": 53,
   "metadata": {},
   "outputs": [
    {
     "name": "stdout",
     "output_type": "stream",
     "text": [
      "['nom', 'taille', 'lieu', 'nationalite', 'annee_naissance']\n",
      "['Timothee', (1, 50), 'Lausanne', 'CH', '2021']\n",
      "[('nom', 'Timothee'), ('taille', (1, 50)), ('lieu', 'Lausanne'), ('nationalite', 'CH'), ('annee_naissance', '2021')]\n"
     ]
    }
   ],
   "source": [
    "print(list(d.keys()))\n",
    "print(list(d.values()))\n",
    "print(list(d.items()))"
   ]
  },
  {
   "cell_type": "code",
   "execution_count": 54,
   "metadata": {},
   "outputs": [
    {
     "name": "stdout",
     "output_type": "stream",
     "text": [
      "AL : Alabama\n",
      "CA : California\n",
      "NJ : New Jersey\n",
      "NY : New York\n"
     ]
    }
   ],
   "source": [
    "#@title #### **Triez le dictionnaire**\n",
    "# sorted()\n",
    "states_dict = {'AL' : 'Alabama', 'CA' : 'California',\n",
    "               'NJ' : 'New Jersey', 'NY' : 'New York'}\n",
    "sorted_keys = sorted(list(states_dict.keys()), reverse=False)\n",
    "for key in sorted_keys :\n",
    "    print('{} : {}'.format(key, states_dict[key]))"
   ]
  },
  {
   "cell_type": "markdown",
   "metadata": {},
   "source": [
    "## **Fonctions et classes**\n",
    "Pour les tâches plus longues et plus complexes, il est important d'organiser votre code en éléments réutilisables. Par exemple, si vous vous retrouvez à couper et coller les mêmes lignes de code ou des lignes similaires à plusieurs reprises, vous devez probablement définir une *fonction* pour encapsuler ce code et le rendre réutilisable. Un principe important de la programmation en **DRY** : \"ne vous répétez pas\". La répétition est fastidieuse et vous expose à des erreurs. Recherchez l'élégance et la simplicité dans vos programmes.\n",
    "\n",
    "Nous pouvons utiliser les deux éléments suivants pour organiser notre code :\n",
    "\n",
    "1. Les fonctions\n",
    "2. Les classes\n",
    "\n",
    "Référence :\n",
    "* IBM Congnitive Class - Intro to Python (https://github.com/computationalcore/introduction-to-python)\n",
    "* CUSP UCSL bootcamp 2017 (https://github.com/Mohitsharma44/ucsl17)\n",
    "* Introduction to Python (Ryan Abernathy; https://rabernat.github.io/research_computing/intro-to-python.html)"
   ]
  },
  {
   "cell_type": "markdown",
   "metadata": {},
   "source": [
    "### **Fonctions**\n",
    "Les fonctions sont un élément central de la programmation avancée en Python. Les fonctions prennent des entrées (\"arguments\") et font quelque chose en réponse. En général, les fonctions renvoient quelque chose, mais pas toujours."
   ]
  },
  {
   "cell_type": "code",
   "execution_count": 57,
   "metadata": {},
   "outputs": [],
   "source": [
    "#@title **Define a Function**\n",
    "def say_hello():\n",
    "    \"\"\"Return the word hello.\"\"\"\n",
    "    return 'Hello'\n",
    "\n",
    "def say_hello_to(name=None):\n",
    "  \"\"\"\n",
    "  Return the word hello to someone\n",
    "  \"\"\"\n",
    "  return 'Hello, '+str(name)\n",
    "\n",
    "# take an optional keyword argument\n",
    "def say_hello_or_hola(name, french=False):\n",
    "    \"\"\"Say hello in multiple languages.\"\"\"\n",
    "    if french:\n",
    "        greeting = 'Bonjour '\n",
    "    else:\n",
    "        greeting = 'Hello '\n",
    "    return greeting + name\n",
    "\n",
    "# flexible number of arguments\n",
    "def say_hello_to_everyone(*args):\n",
    "    return ['Bonjour ' + str(a) for a in args]"
   ]
  },
  {
   "cell_type": "code",
   "execution_count": 58,
   "metadata": {},
   "outputs": [
    {
     "name": "stdout",
     "output_type": "stream",
     "text": [
      "Hello\n",
      "Hello\n"
     ]
    }
   ],
   "source": [
    "print(say_hello())\n",
    "res = say_hello()\n",
    "print(res)"
   ]
  },
  {
   "cell_type": "code",
   "execution_count": null,
   "metadata": {},
   "outputs": [],
   "source": [
    "print(say_hello_or_hola('Frédéric', french=True)) # Saluer le recteur\n",
    "print(say_hello_or_hola('Frédéric', french=False))\n",
    "print(say_hello_to_everyone('Niklas', 'Valérie', 'Marie-Élodie')) # Saluer les doyens"
   ]
  },
  {
   "cell_type": "code",
   "execution_count": null,
   "metadata": {},
   "outputs": [],
   "source": [
    "#@title **Fonction anonyme**\n",
    "mul = lambda a, b: a*b\n",
    "print(mul(4,5))"
   ]
  },
  {
   "cell_type": "code",
   "execution_count": null,
   "metadata": {},
   "outputs": [],
   "source": [
    "#@title **Fonction map**\n",
    "# syntaxe : map(function,iterator)\n",
    "numbers = range(1, 10)\n",
    "def square(num):\n",
    "    return num**2\n",
    "list(map(square, numbers))\n",
    "# L'équivalent de cette fonction est :\n",
    "# result = []\n",
    "# for i in range(1, 10) :\n",
    "# result.append(i**2)"
   ]
  },
  {
   "cell_type": "code",
   "execution_count": null,
   "metadata": {},
   "outputs": [],
   "source": [
    "# On peut aussi l'écrire en une seule ligne !\n",
    "list(map(lambda x : x**2, range(1, 10)))"
   ]
  },
  {
   "cell_type": "code",
   "execution_count": null,
   "metadata": {},
   "outputs": [],
   "source": [
    "# Retourne toutes les valeurs pour lesquelles %2 est différent de zéro... (Liste de tous les nombres impairs, n'est-ce pas ?)\n",
    "list(filter(lambda x : x%2, range(1, 10)))"
   ]
  },
  {
   "cell_type": "markdown",
   "metadata": {},
   "source": [
    "#### **Fonctions pures et fonctions impures**\n",
    "Les fonctions qui ne modifient pas leurs arguments ou ne produisent pas d'autres effets secondaires sont appelées *pures*.\n",
    "\n",
    "Les fonctions qui modifient leurs arguments ou provoquent d'autres actions sont appelées *pures*."
   ]
  },
  {
   "cell_type": "code",
   "execution_count": 61,
   "metadata": {},
   "outputs": [
    {
     "name": "stdout",
     "output_type": "stream",
     "text": [
      "['Niklas', 'Valérie']\n",
      "['Niklas']\n"
     ]
    }
   ],
   "source": [
    "# Fonctions impures\n",
    "def remove_last_from_list(input_list) :\n",
    "    input_list.pop()\n",
    "names = ['Niklas', 'Valérie', 'Marie-Élodie']\n",
    "remove_last_from_list(names)\n",
    "print(names)\n",
    "remove_last_from_list(names)\n",
    "print(names)"
   ]
  },
  {
   "cell_type": "code",
   "execution_count": 65,
   "metadata": {},
   "outputs": [
    {
     "name": "stdout",
     "output_type": "stream",
     "text": [
      "['Niklas', 'Valérie', 'Marie-Élodie']\n",
      "['Niklas', 'Valérie']\n"
     ]
    }
   ],
   "source": [
    "#Nous pouvons faire quelque chose de similaire avec une fonction pure. En général, les fonctions pures sont plus sûres et plus fiables.\n",
    "def remove_last_from_list_pure(input_list) :\n",
    "    new_list = input_list.copy()\n",
    "    new_list.pop()\n",
    "    return new_list\n",
    "\n",
    "names = ['Niklas', 'Valérie', 'Marie-Élodie']\n",
    "new_names = remove_last_from_list_pure(names)\n",
    "print(names)\n",
    "print(new_names)"
   ]
  },
  {
   "cell_type": "markdown",
   "metadata": {},
   "source": [
    "#### **Espace de noms**\n",
    "En Python, un espace de noms est une correspondance entre les noms de variables et les objets Python. On peut l'assimiler à un dictionnaire.\n",
    "L'espace de noms peut changer en fonction de l'endroit où vous vous trouvez dans votre programme. Les fonctions peuvent \"voir\" les variables dans l'espace de noms parent, mais elles peuvent également les redéfinir dans une portée privée.\n",
    "\n",
    "Il est important que vous soyez conscient des espaces de noms dans votre code, en particulier lorsque vous traitez avec des objets mutables."
   ]
  },
  {
   "cell_type": "code",
   "execution_count": 66,
   "metadata": {},
   "outputs": [
    {
     "name": "stdout",
     "output_type": "stream",
     "text": [
      "Tom\n",
      "Estelle\n",
      "Tom\n"
     ]
    }
   ],
   "source": [
    "name = 'Tom' # Entrez votre nom ici\n",
    "def print_name():\n",
    "    print(name)\n",
    "\n",
    "def print_name_v2():\n",
    "    name = 'Estelle'\n",
    "    print(name)\n",
    "\n",
    "print_name()\n",
    "print_name_v2()\n",
    "print(name)"
   ]
  },
  {
   "cell_type": "code",
   "execution_count": 67,
   "metadata": {},
   "outputs": [],
   "source": [
    "friends_list = ['Mario', 'Florence', 'Richard']\n",
    "pet_tuple = ('Hedwig', 'Na-paw-lyon', 'Cat-hilda')"
   ]
  },
  {
   "cell_type": "code",
   "execution_count": 68,
   "metadata": {},
   "outputs": [],
   "source": [
    "def greeter(friends, pets):\n",
    "    print(\"It's time to say hi to my friends.\")\n",
    "    [print(f'Hi {name}! ', end=\"\") for name in friends]\n",
    "    print('\\nThese are the names of my pets:')\n",
    "    [print(f'{pet} ', end=\"\") for pet in pets]\n",
    "    print('\\n')\n",
    "\n",
    "def pets_are_friends(friends, pets):\n",
    "    print(\"I consider both my pets and my friend's pets my friends!\")\n",
    "\n",
    "    #add friend's pets\n",
    "    full_pets = pets\n",
    "    full_pets += ('Clifford', 'Crookshanks')\n",
    "\n",
    "    full_friends_list = friends\n",
    "    full_friends_list.extend(full_pets)\n",
    "\n",
    "    print('These are all my friends:')\n",
    "    [print(f'{name} ', end=\"\") for name in full_friends_list]\n",
    "    print('\\n')"
   ]
  },
  {
   "cell_type": "code",
   "execution_count": 69,
   "metadata": {},
   "outputs": [
    {
     "name": "stdout",
     "output_type": "stream",
     "text": [
      "It's time to say hi to my friends.\n",
      "Hi Mario! Hi Florence! Hi Richard! \n",
      "These are the names of my pets:\n",
      "Hedwig Na-paw-lyon Cat-hilda \n",
      "\n",
      "I consider both my pets and my friend's pets my friends!\n",
      "These are all my friends:\n",
      "Mario Florence Richard Hedwig Na-paw-lyon Cat-hilda Clifford Crookshanks \n",
      "\n",
      "It's time to say hi to my friends.\n",
      "Hi Mario! Hi Florence! Hi Richard! Hi Hedwig! Hi Na-paw-lyon! Hi Cat-hilda! Hi Clifford! Hi Crookshanks! \n",
      "These are the names of my pets:\n",
      "Hedwig Na-paw-lyon Cat-hilda \n",
      "\n"
     ]
    }
   ],
   "source": [
    "greeter(friends_list, pet_tuple)\n",
    "pets_are_friends(friends_list, pet_tuple)\n",
    "greeter(friends_list, pet_tuple)"
   ]
  },
  {
   "cell_type": "markdown",
   "metadata": {},
   "source": [
    "### **Classes**\n",
    "Jusqu'à présent, nous avons travaillé avec de nombreux types d'objets python :\n",
    "chaînes de caractères, listes, dictionnaires, etc.\n",
    "Ces objets ont différents attributs et répondent de différentes manières aux fonctions\n",
    "aux fonctions intégrées (`len`, etc.).\n",
    "\n",
    "Comment pouvons-nous créer nos propres objets personnalisés ? Réponse : en définissant des classes."
   ]
  },
  {
   "cell_type": "markdown",
   "metadata": {},
   "source": [
    "#### **Une classe pour représenter un ouragan**\n",
    "\n",
    "Créons notre première classe ci-dessous,"
   ]
  },
  {
   "cell_type": "code",
   "execution_count": 79,
   "metadata": {},
   "outputs": [],
   "source": [
    "class Hurricane:\n",
    "\n",
    "    def __init__(self, name):\n",
    "        self.name = name"
   ]
  },
  {
   "cell_type": "markdown",
   "metadata": {},
   "source": [
    "Et maintenant, créons une *instance* de cette classe, `h` :"
   ]
  },
  {
   "cell_type": "code",
   "execution_count": 80,
   "metadata": {},
   "outputs": [
    {
     "name": "stdout",
     "output_type": "stream",
     "text": [
      "<__main__.Hurricane object at 0x110e348c0> florence\n"
     ]
    }
   ],
   "source": [
    "h = Hurricane('florence')\n",
    "print(h,h.name)"
   ]
  },
  {
   "cell_type": "markdown",
   "metadata": {},
   "source": [
    "Ajoutons-en d'autres, ainsi qu'une validation des entrées :"
   ]
  },
  {
   "cell_type": "code",
   "execution_count": 81,
   "metadata": {},
   "outputs": [],
   "source": [
    "class Hurricane:\n",
    "\n",
    "    def __init__(self, name, category, lon):\n",
    "        self.name = name.upper()\n",
    "        self.category = int(category)\n",
    "\n",
    "        if lon > 180 or lon < -180:\n",
    "            raise ValueError(f'Invalid lon {lon}')\n",
    "        self.lon = lon"
   ]
  },
  {
   "cell_type": "code",
   "execution_count": 82,
   "metadata": {},
   "outputs": [
    {
     "name": "stdout",
     "output_type": "stream",
     "text": [
      "<__main__.Hurricane object at 0x110e35550> FLORENCE\n"
     ]
    },
    {
     "ename": "ValueError",
     "evalue": "Invalid lon 300",
     "output_type": "error",
     "traceback": [
      "\u001b[0;31m---------------------------------------------------------------------------\u001b[0m",
      "\u001b[0;31mValueError\u001b[0m                                Traceback (most recent call last)",
      "Cell \u001b[0;32mIn[82], line 3\u001b[0m\n\u001b[1;32m      1\u001b[0m h \u001b[38;5;241m=\u001b[39m Hurricane(\u001b[38;5;124m'\u001b[39m\u001b[38;5;124mflorence\u001b[39m\u001b[38;5;124m'\u001b[39m, \u001b[38;5;241m4\u001b[39m, \u001b[38;5;241m-\u001b[39m\u001b[38;5;241m46\u001b[39m)\n\u001b[1;32m      2\u001b[0m \u001b[38;5;28mprint\u001b[39m(h,h\u001b[38;5;241m.\u001b[39mname)\n\u001b[0;32m----> 3\u001b[0m h \u001b[38;5;241m=\u001b[39m \u001b[43mHurricane\u001b[49m\u001b[43m(\u001b[49m\u001b[38;5;124;43m'\u001b[39;49m\u001b[38;5;124;43mIda\u001b[39;49m\u001b[38;5;124;43m'\u001b[39;49m\u001b[43m,\u001b[49m\u001b[43m \u001b[49m\u001b[38;5;241;43m5\u001b[39;49m\u001b[43m,\u001b[49m\u001b[43m \u001b[49m\u001b[38;5;241;43m300\u001b[39;49m\u001b[43m)\u001b[49m\n",
      "Cell \u001b[0;32mIn[81], line 8\u001b[0m, in \u001b[0;36mHurricane.__init__\u001b[0;34m(self, name, category, lon)\u001b[0m\n\u001b[1;32m      5\u001b[0m \u001b[38;5;28mself\u001b[39m\u001b[38;5;241m.\u001b[39mcategory \u001b[38;5;241m=\u001b[39m \u001b[38;5;28mint\u001b[39m(category)\n\u001b[1;32m      7\u001b[0m \u001b[38;5;28;01mif\u001b[39;00m lon \u001b[38;5;241m>\u001b[39m \u001b[38;5;241m180\u001b[39m \u001b[38;5;129;01mor\u001b[39;00m lon \u001b[38;5;241m<\u001b[39m \u001b[38;5;241m-\u001b[39m\u001b[38;5;241m180\u001b[39m:\n\u001b[0;32m----> 8\u001b[0m     \u001b[38;5;28;01mraise\u001b[39;00m \u001b[38;5;167;01mValueError\u001b[39;00m(\u001b[38;5;124mf\u001b[39m\u001b[38;5;124m'\u001b[39m\u001b[38;5;124mInvalid lon \u001b[39m\u001b[38;5;132;01m{\u001b[39;00mlon\u001b[38;5;132;01m}\u001b[39;00m\u001b[38;5;124m'\u001b[39m)\n\u001b[1;32m      9\u001b[0m \u001b[38;5;28mself\u001b[39m\u001b[38;5;241m.\u001b[39mlon \u001b[38;5;241m=\u001b[39m lon\n",
      "\u001b[0;31mValueError\u001b[0m: Invalid lon 300"
     ]
    }
   ],
   "source": [
    "h = Hurricane('florence', 4, -46)\n",
    "print(h,h.name)\n",
    "h = Hurricane('Ida', 5, 300)"
   ]
  },
  {
   "cell_type": "code",
   "execution_count": 83,
   "metadata": {},
   "outputs": [],
   "source": [
    "# Ajoutons maintenant une méthode personnalisée :class Hurricane:\n",
    "class Hurricane:\n",
    "\n",
    "    def __init__(self, name, category, lon):\n",
    "        self.name = name.upper()\n",
    "        self.category = int(category)\n",
    "\n",
    "        if lon > 180 or lon < -180:\n",
    "            raise ValueError(f'Invalid lon {lon}')\n",
    "        self.lon = lon\n",
    "\n",
    "    def is_dangerous(self):\n",
    "        return self.category > 1"
   ]
  },
  {
   "cell_type": "code",
   "execution_count": 84,
   "metadata": {},
   "outputs": [
    {
     "data": {
      "text/plain": [
       "True"
      ]
     },
     "execution_count": 84,
     "metadata": {},
     "output_type": "execute_result"
    }
   ],
   "source": [
    "f = Hurricane('florence', 4, -46)\n",
    "f.is_dangerous()"
   ]
  },
  {
   "cell_type": "markdown",
   "metadata": {},
   "source": [
    "#### **Méthodes magiques / Dunder**\n",
    "Nous pouvons implémenter des méthodes spéciales qui commencent par des doubles points (c'est-à-dire des méthodes \"dunder\"), qui nous permettent de personnaliser le comportement de nos classes. ([En savoir plus ici](https://www.python-course.eu/python3_magic_methods.php)). Nous en avons déjà appris une : `__init__`. Implémentons la méthode `__repr__` pour que notre classe affiche quelque chose de joli."
   ]
  },
  {
   "cell_type": "code",
   "execution_count": null,
   "metadata": {},
   "outputs": [],
   "source": [
    "class Hurricane:\n",
    "\n",
    "    def __init__(self, name, category, lon):\n",
    "        self.name = name.upper()\n",
    "        self.category = int(category)\n",
    "\n",
    "        if lon > 180 or lon < -180:\n",
    "            raise ValueError(f'Invalid lon {lon}')\n",
    "        self.lon = lon\n",
    "\n",
    "    def __repr__(self):\n",
    "        return f\"<Hurricane {self.name} (cat {self.category})>\"\n",
    "\n",
    "    def is_dangerous(self):\n",
    "        return self.category > 1"
   ]
  },
  {
   "cell_type": "code",
   "execution_count": null,
   "metadata": {},
   "outputs": [],
   "source": [
    "f = Hurricane('florence', 4, -46)\n",
    "f"
   ]
  }
 ],
 "metadata": {
  "kernelspec": {
   "display_name": "base",
   "language": "python",
   "name": "python3"
  },
  "language_info": {
   "codemirror_mode": {
    "name": "ipython",
    "version": 3
   },
   "file_extension": ".py",
   "mimetype": "text/x-python",
   "name": "python",
   "nbconvert_exporter": "python",
   "pygments_lexer": "ipython3",
   "version": "3.12.0"
  }
 },
 "nbformat": 4,
 "nbformat_minor": 2
}
