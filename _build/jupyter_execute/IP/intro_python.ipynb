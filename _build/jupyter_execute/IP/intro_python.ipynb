{
 "cells": [
  {
   "cell_type": "markdown",
   "metadata": {},
   "source": [
    "# Introduction à la programmation Python\n",
    "\n",
    "### Dans ce premier chapitre, nous vous guiderons à travers les bases de Python qui vous permettront de naviguer dans le reste du livre. Ceci inclut les bases des variables, du fluy de contrôle, des entrées/sorties de fichiers, de la structure des données, des fonctions et des classes en Python. "
   ]
  }
 ],
 "metadata": {
  "language_info": {
   "codemirror_mode": {
    "name": "ipython",
    "version": 3
   },
   "file_extension": ".py",
   "mimetype": "text/x-python",
   "name": "python",
   "nbconvert_exporter": "python",
   "pygments_lexer": "ipython3",
   "version": "3.9.18"
  }
 },
 "nbformat": 4,
 "nbformat_minor": 2
}